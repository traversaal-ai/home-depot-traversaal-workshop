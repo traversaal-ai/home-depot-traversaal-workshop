{
  "cells": [
    {
      "cell_type": "markdown",
      "source": [
        "# Deep Dive Agentic Retrieval Augmented Generation\n",
        "\n",
        "An Agentic RAG is required when we use reasoning to determine which action(s) to take and in which order to take them. Essentially we use agents instead of a LLM directly to accomplish a set of tasks which requires planning, multi step reasoning, tool use and/or learning over time. Agents give us agency!\n",
        "\n",
        "Agency : The ability to take action or to choose what action to take\n",
        "\n",
        "In the context of RAG, we can plug in agents to enhance the reasoning prior to selection of RAG pipelines, within a RAG pipeline for retrieval or reranking and finally for synthesising before we send out the response. This improves RAG to a large extent by automating complex workflows and decisions that are required for a non trivial RAG use case.\n",
        "\n",
        "### Purpose of this Agentic RAG\n",
        "This notebook presents a practical implementation of Agentic Retrieval-Augmented Generation (RAG)—a system where decision-making and tool selection are delegated to an intelligent agent before executing a response. Rather than passing every query through a static RAG pipeline, this system introduces agency—the ability to choose the best course of action depending on the nature of the query.\n",
        "\n",
        "At the heart of this implementation is a router prompt, which classifies user queries into one of three categories:\n",
        "\n",
        "- OpenAI documentation: Queries related to tools, APIs, or usage guidelines for OpenAI models\n",
        "- 10-K financial reports: Questions requiring retrieval from company filings or financial datasets\n",
        "- Live Internet search: Broader, current, or comparative queries that need web access\n",
        "\n",
        "Once the query is classified, the system invokes a corresponding route handler:\n",
        "\n",
        "- For OpenAI and 10-K queries, it retrieves relevant context from a vector database (Qdrant) using text embeddings, then applies a RAG-based response generator.\n",
        "- For Internet queries, it fetches real-time information using a web-access API (ARES).\n",
        "\n",
        "This approach is an example of Agentic RAG, where reasoning precedes retrieval and generation. By plugging in agents before and within the RAG pipeline, we make the system smarter and more adaptive. This allows us to:\n",
        "\n",
        "- Automatically choose the right retrieval method based on context\n",
        "- Combine structured knowledge with real-time search\n",
        "- Scale RAG beyond trivial use cases by integrating multi-step decision logic\n",
        "\n",
        "Importantly, no external agentic frameworks are used—this is a ground-up implementation that demonstrates how to build a lightweight but intelligent agentic system using only a language model, prompt engineering, and retrieval tools."
      ],
      "metadata": {
        "id": "mJ9XHTOPUCav"
      }
    },
    {
      "cell_type": "markdown",
      "source": [
        "## Setup and Dependencies"
      ],
      "metadata": {
        "id": "haelye0PUbdX"
      }
    },
    {
      "cell_type": "markdown",
      "source": [
        "[![Open In Colab](https://colab.research.google.com/assets/colab-badge.svg)](https://colab.research.google.com/drive/11AviwYi-6ZGYykXOMNylzIz499_VWrIX?usp=sharing)"
      ],
      "metadata": {
        "id": "0WPiH2SKpaHi"
      }
    },
    {
      "cell_type": "code",
      "execution_count": null,
      "metadata": {
        "collapsed": true,
        "id": "HciDI6OpSKJN"
      },
      "outputs": [],
      "source": [
        "# Install the necessary libraries\n",
        "!pip install openai\n",
        "!pip install qdrant_client\n",
        "!pip install transformers\n"
      ]
    },
    {
      "cell_type": "code",
      "source": [
        "# Import basic libraries\n",
        "import requests             # Used for making HTTP requests (e.g., calling ARES API for live internet queries)\n",
        "import json                 # For parsing and structuring JSON data (especially OpenAI and routing responses)\n",
        "\n",
        "# Google Colab-specific (for securely handling API keys)\n",
        "from google.colab import userdata  # To securely store and retrieve credentials in Colab\n",
        "\n",
        "# OS operations\n",
        "import os                   # Useful for accessing environment variables and managing paths\n",
        "\n",
        "# OpenAI API client\n",
        "from openai import OpenAI   # Official OpenAI client library to interface with GPT models for routing and generation\n",
        "\n",
        "# Text processing\n",
        "import re                   # Regular expressions for cleaning or preprocessing inputs (if needed)\n",
        "\n",
        "# Optional visualization (for analysis/debugging purposes)\n",
        "import matplotlib.pyplot as plt       # For displaying charts or visual debug outputs (e.g., embeddings visualizations)\n",
        "import matplotlib.image as mpimg      # For loading/displaying images if needed (rare in RAG, but helpful in demos)\n",
        "\n",
        "# Embedding models (used for text vectorization during retrieval)\n",
        "from transformers import AutoTokenizer, AutoModel  # For loading custom transformer models if not using OpenAI embeddings\n",
        "\n",
        "# Vector database client\n",
        "from qdrant_client import QdrantClient   # Qdrant is used as the vector store to retrieve documents based on similarity\n"
      ],
      "metadata": {
        "id": "J7xIyE7iyI63"
      },
      "execution_count": null,
      "outputs": []
    },
    {
      "cell_type": "markdown",
      "source": [
        "## 1. Defining the Internet Tool\n",
        "\n",
        "First, we will define a tool function that enables our system to answer queries requiring real-time, internet-based information. Not all questions can be answered using static documents like OpenAI docs or financial filings—sometimes users ask about current trends, comparisons, or live updates.\n",
        "\n",
        "To handle this, we introduce a live search capability using the **ARES API** by Traversaal.\n",
        "\n",
        "### What is ARES API?  \n",
        "ARES is a web-based tool that allows you to:\n",
        "\n",
        "- Search the internet in real time.\n",
        "- Get LLM-generated answers based on live search results.\n",
        "\n",
        "This is particularly useful for questions about:\n",
        "\n",
        "- Current events (e.g., *“Latest AI tools in 2025”*),\n",
        "- Tech comparisons (e.g., *“Gemini vs GPT-4”*),\n",
        "- General knowledge outside internal datasets.\n",
        "\n",
        "Please generate the API key [here](https://api.traversaal.ai)\n"
      ],
      "metadata": {
        "id": "JE6Bf6r19qhn"
      }
    },
    {
      "cell_type": "code",
      "execution_count": null,
      "metadata": {
        "id": "1PydVhqpW43B"
      },
      "outputs": [],
      "source": [
        "#loads ares api key from colab secrets\n",
        "ares_api_key=userdata.get('ARES_API_KEY')"
      ]
    },
    {
      "cell_type": "code",
      "execution_count": null,
      "metadata": {
        "id": "6tF67DJgZ_sz"
      },
      "outputs": [],
      "source": [
        "import requests  # For sending HTTP POST requests to the ARES API\n",
        "\n",
        "def get_internet_content(user_query: str, action: str):\n",
        "    \"\"\"\n",
        "    Fetches a response from the internet using ARES-API based on the user's query.\n",
        "\n",
        "    This function serves as the tool invoked when the router classifies a query\n",
        "    as requiring real-time information beyond internal datasets—i.e., \"INTERNET_QUERY\".\n",
        "    It sends the query to a live search API (ARES) and returns the result.\n",
        "\n",
        "    Args:\n",
        "        user_query (str): The user's question that needs a live answer.\n",
        "        action (str): Route type (always expected to be \"INTERNET_QUERY\").\n",
        "\n",
        "    Returns:\n",
        "        str: Response text generated using internet search or an error message.\n",
        "    \"\"\"\n",
        "    print(\"Getting your response from the internet 🌐 ...\")\n",
        "\n",
        "    # API endpoint for the ARES live search tool\n",
        "    url = \"https://api-ares.traversaal.ai/live/predict\"\n",
        "\n",
        "    # Payload structure expected by the ARES API\n",
        "    payload = {\"query\": [user_query]}\n",
        "\n",
        "    # Authentication and content headers for API access\n",
        "    headers = {\n",
        "        \"x-api-key\": ares_api_key,  # Your secret API key (should be securely loaded from environment)\n",
        "        \"content-type\": \"application/json\"\n",
        "    }\n",
        "\n",
        "    try:\n",
        "        # Send the query to the ARES API and check for success\n",
        "        response = requests.post(url, json=payload, headers=headers)\n",
        "        response.raise_for_status()\n",
        "\n",
        "        # Extract and return the main response text from the API's nested JSON\n",
        "        return response.json().get('data', {}).get('response_text', \"No response received.\")\n",
        "\n",
        "    # Handle HTTP-level errors (e.g., 400s or 500s)\n",
        "    except requests.exceptions.HTTPError as http_err:\n",
        "        return f\"HTTP error occurred: {http_err}\"\n",
        "\n",
        "    # Handle general connection, timeout, or request formatting issues\n",
        "    except requests.exceptions.RequestException as req_err:\n",
        "        return f\"Request error occurred: {req_err}\"\n",
        "\n",
        "    # Catch-all for any unexpected failure\n",
        "    except Exception as err:\n",
        "        return f\"An unexpected error occurred: {err}\"\n"
      ]
    },
    {
      "cell_type": "code",
      "execution_count": null,
      "metadata": {
        "id": "USRVlUIVaRGM"
      },
      "outputs": [],
      "source": [
        "print(get_internet_content(\"Tell me about best travel destinations in 2025?\",\"INTERNET_QUERY\")) #run internet function to test results"
      ]
    },
    {
      "cell_type": "markdown",
      "metadata": {
        "id": "ocV_ALVEaRi0"
      },
      "source": [
        "## 2. Router Query Function — Giving the Agent Its Brain\n",
        "\n",
        "In this step, we will define the router function, which plays a critical role in our Agentic RAG system.\n",
        "\n",
        "### What is a Router?\n",
        "\n",
        "A router is like the decision-making brain of our assistant.\n",
        "\n",
        "Before trying to answer a user's question, the system first needs to figure out:\n",
        "\n",
        "> “Where should I go to find the right answer?”\n",
        "\n",
        "To make this decision, we use the OpenAI GPT model. We provide it with a detailed system prompt that explains how to classify the user's question into one of these categories:\n",
        "\n",
        "- **OPENAI_QUERY** → Questions about OpenAI tools, APIs, models, or documentation.\n",
        "- **10K_DOCUMENT_QUERY** → Questions about companies, financial filings, or analysis based on 10-K reports.\n",
        "- **INTERNET_QUERY** → Anything else that likely requires real-time or general web information.\n",
        "\n",
        "### What does the function do?\n",
        "\n",
        "- Sends the user's question to the OpenAI API.\n",
        "- Receives a JSON response containing:\n",
        "  - `action`: The category the query belongs to.\n",
        "  - `reason`: A short explanation for the decision.\n",
        "  - `answer`: (Optional) A quick response if it’s simple enough (left blank for internet queries).\n",
        "- Parses the response and returns it as a Python dictionary.\n",
        "\n",
        "### Why is this important?\n",
        "\n",
        "This router gives the system agency—the ability to decide which knowledge source to use. It’s what makes this pipeline agentic, not just static.\n",
        "\n",
        "Without the router, every query would follow the same path. With it, we can:\n",
        "\n",
        "- Dynamically switch between tools and data sources.\n",
        "- Handle different types of user questions intelligently.\n",
        "- Avoid wasting resources on unnecessary steps.\n"
      ]
    },
    {
      "cell_type": "code",
      "source": [
        "# Securely retrieve the OpenAI API key from Colab's user data store\n",
        "# This avoids hardcoding sensitive credentials directly in the notebook\n",
        "openai_api_key = userdata.get('OPENAI_API_KEY')\n",
        "\n",
        "# Initialize the OpenAI client with the retrieved API key\n",
        "# This client will be used for:\n",
        "# - Query classification via the router prompt\n",
        "# - Potentially generating responses from retrieved context\n",
        "openaiclient = OpenAI(api_key=openai_api_key)\n"
      ],
      "metadata": {
        "id": "Bce4h1DG1mW8"
      },
      "execution_count": null,
      "outputs": []
    },
    {
      "cell_type": "code",
      "source": [
        "from openai import OpenAIError\n",
        "\n",
        "def route_query(user_query: str):\n",
        "    router_system_prompt =f\"\"\"\n",
        "    As a professional query router, your objective is to correctly classify user input into one of three categories based on the source most relevant for answering the query:\n",
        "    1. \"OPENAI_QUERY\": If the user's query appears to be answerable using information from OpenAI's official documentation, tools, models, APIs, or services (e.g., GPT, ChatGPT, embeddings, moderation API, usage guidelines).\n",
        "    2. \"10K_DOCUMENT_QUERY\": If the user's query pertains to a collection of documents from the 10k annual reports, datasets, or other structured documents, typically for research, analysis, or financial content.\n",
        "    3. \"INTERNET_QUERY\": If the query is neither related to OpenAI nor the 10k documents specifically, or if the information might require a broader search (e.g., news, trends, tools outside these platforms), route it here.\n",
        "\n",
        "    Your decision should be made by assessing the domain of the query.\n",
        "\n",
        "    Always respond in this valid JSON format:\n",
        "    {{\n",
        "        \"action\": \"OPENAI_QUERY\" or \"10K_DOCUMENT_QUERY\" or \"INTERNET_QUERY\",\n",
        "        \"reason\": \"brief justification\",\n",
        "        \"answer\": \"AT MAX 5 words answer. Leave empty if INTERNET_QUERY\"\n",
        "    }}\n",
        "\n",
        "    EXAMPLES:\n",
        "\n",
        "    - User: \"How to fine-tune GPT-3?\"\n",
        "    Response:\n",
        "    {{\n",
        "        \"action\": \"OPENAI_QUERY\",\n",
        "        \"reason\": \"Fine-tuning is OpenAI-specific\",\n",
        "        \"answer\": \"Use fine-tuning API\"\n",
        "    }}\n",
        "\n",
        "    - User: \"Where can I find the latest financial reports for the last 10 years?\"\n",
        "    Response:\n",
        "    {{\n",
        "        \"action\": \"10K_DOCUMENT_QUERY\",\n",
        "        \"reason\": \"Query related to annual reports\",\n",
        "        \"answer\": \"Access through document database\"\n",
        "    }}\n",
        "\n",
        "    - User: \"Top leadership styles in 2024\"\n",
        "    Response:\n",
        "    {{\n",
        "        \"action\": \"INTERNET_QUERY\",\n",
        "        \"reason\": \"Needs current leadership trends\",\n",
        "        \"answer\": \"\"\n",
        "    }}\n",
        "\n",
        "    - User: \"What's the difference between ChatGPT and Claude?\"\n",
        "    Response:\n",
        "    {{\n",
        "        \"action\": \"INTERNET_QUERY\",\n",
        "        \"reason\": \"Cross-comparison of different providers\",\n",
        "        \"answer\": \"\"\n",
        "    }}\n",
        "\n",
        "    Strictly follow this format for every query, and never deviate.\n",
        "    User: {user_query}\n",
        "    \"\"\"\n",
        "\n",
        "    try:\n",
        "        # Query the GPT-4 model with the router prompt and user input\n",
        "        response = openaiclient.chat.completions.create(\n",
        "            model=\"gpt-4o\",\n",
        "            messages=[{\"role\": \"system\", \"content\": router_system_prompt}]\n",
        "        )\n",
        "\n",
        "        # Extract and parse the model's JSON response\n",
        "        task_response = response.choices[0].message.content\n",
        "        json_match = re.search(r\"\\{.*\\}\", task_response, re.DOTALL)\n",
        "        json_text = json_match.group()\n",
        "        parsed_response = json.loads(json_text)\n",
        "        return parsed_response\n",
        "\n",
        "    # Handle OpenAI API errors (e.g., rate limits, authentication)\n",
        "    except OpenAIError as api_err:\n",
        "        return {\n",
        "            \"action\": \"INTERNET_QUERY\",\n",
        "            \"reason\": f\"OpenAI API error: {api_err}\",\n",
        "            \"answer\": \"\"\n",
        "        }\n",
        "\n",
        "    # Handle case where model response isn't valid JSON\n",
        "    except json.JSONDecodeError as json_err:\n",
        "        return {\n",
        "            \"action\": \"INTERNET_QUERY\",\n",
        "            \"reason\": f\"JSON parsing error: {json_err}\",\n",
        "            \"answer\": \"\"\n",
        "        }\n",
        "\n",
        "    # Catch-all for any other unforeseen issues\n",
        "    except Exception as err:\n",
        "        return {\n",
        "            \"action\": \"INTERNET_QUERY\",\n",
        "            \"reason\": f\"Unexpected error: {err}\",\n",
        "            \"answer\": \"\"\n",
        "        }"
      ],
      "metadata": {
        "id": "5bBt3L8qijeb"
      },
      "execution_count": null,
      "outputs": []
    },
    {
      "cell_type": "code",
      "source": [
        "route_query(\"what is the revenue of uber in 2021?\")\n"
      ],
      "metadata": {
        "id": "5ilSsVBBv-KT"
      },
      "execution_count": null,
      "outputs": []
    },
    {
      "cell_type": "markdown",
      "metadata": {
        "id": "VrkE-V4PlClH"
      },
      "source": [
        "## 3. Setting Up Qdrant Vector Database for Agentic RAG\n",
        "In this step, we are connecting our agent to a pre-built vector database using Qdrant—a tool used to store and search document embeddings (numerical representations of text).\n",
        "\n",
        "What Are We Doing?\n",
        "We are loading an existing Qdrant database that was downloaded from a GitHub repository. This database already contains:\n",
        "\n",
        "- Vectorized OpenAI documentation\n",
        "- Vectorized 10-K financial filings\n",
        "\n",
        "By loading this saved data:\n",
        "\n",
        "- We save time (no need to re-embed the documents)\n",
        "- We enable fast similarity search to retrieve relevant text chunks\n",
        "\n",
        "This setup allows our system to perform semantic search, meaning it can understand the meaning of the user query and match it with the most relevant pieces of information stored in the database.\n",
        "\n",
        "\n",
        "### Why This Matters in Agentic RAG\n",
        "Once the router decides that the query should go to the OpenAI docs or the 10-K reports, our system uses Qdrant to:\n",
        "\n",
        "- Search for the most relevant pieces of text\n",
        "- Pass those to the model to generate a grounded answer\n",
        "\n",
        "So, this step is essential to support retrieval-augmented generation (RAG) within our agentic flow."
      ]
    },
    {
      "cell_type": "markdown",
      "source": [
        "#Data Sources:\n",
        "\n",
        "**10K Database: Lyft 2024 & Uber 2021 SEC filings**\n",
        "\n",
        "**OpenAI Docs: Official OpenAI documentation**\n",
        "\n",
        "For lecture demo purposes, the vecitr database has already been created and hosted on Github which we will clone here. In order to create your own embeddings, the notebook and data will be hosted and shared on github"
      ],
      "metadata": {
        "id": "yXAXLB2eCgSn"
      }
    },
    {
      "cell_type": "code",
      "source": [
        "# Clone the project repository that contains prebuilt vector data (e.g., Qdrant collections)\n",
        "# This includes document embeddings and configurations needed for retrieval (10-K, OpenAI docs)\n",
        "!git clone https://github.com/hamzafarooq/multi-agent-course.git\n"
      ],
      "metadata": {
        "id": "suqlk9P9YJfQ"
      },
      "execution_count": null,
      "outputs": []
    },
    {
      "cell_type": "code",
      "source": [
        "# 🗄️ Initializing Qdrant client with local path to vector database\n",
        "# The path points to prebuilt Qdrant collections (10-K and OpenAI docs) cloned from the repository\n",
        "# This enables fast, local retrieval of relevant document chunks based on semantic similarity\n",
        "client = QdrantClient(path=\"/content/multi-agent-course/Module_1/Agentic_RAG/qdrant_data\")\n"
      ],
      "metadata": {
        "id": "BB-p1nzYo91-"
      },
      "execution_count": null,
      "outputs": []
    },
    {
      "cell_type": "markdown",
      "metadata": {
        "id": "Z90HaV0jm93H"
      },
      "source": [
        "## 4. Building the Retriever and RAG for Vector Databases\n",
        "In this section, we build the core logic that allows our agent to find relevant documents and generate grounded answers using them.\n",
        "\n",
        "###Step 1: Import the Embedding Model\n",
        "We start by importing the nomic-ai/nomic-embed-text-v1.5 model from Hugging Face. This model is used to convert any text (such as a user query) into a dense vector, known as an embedding. These embeddings capture the semantic meaning of text, allowing us to later compare and retrieve similar documents.\n"
      ]
    },
    {
      "cell_type": "code",
      "execution_count": null,
      "metadata": {
        "id": "qM6mDo0InEji"
      },
      "outputs": [],
      "source": [
        "# Load the tokenizer and embedding model from Hugging Face\n",
        "# This model converts raw text into dense vector representations (embeddings)\n",
        "# Used for similarity search in Qdrant during document retrieval\n",
        "text_tokenizer = AutoTokenizer.from_pretrained(\"nomic-ai/nomic-embed-text-v1.5\", trust_remote_code=True)\n",
        "text_model = AutoModel.from_pretrained(\"nomic-ai/nomic-embed-text-v1.5\", trust_remote_code=True)\n",
        "\n",
        "def get_text_embeddings(text):\n",
        "    \"\"\"\n",
        "    Converts input text into a dense embedding using the Nomic embedding model.\n",
        "    These embeddings are used to query Qdrant for semantically relevant document chunks.\n",
        "\n",
        "    Args:\n",
        "        text (str): The input text or query from the user.\n",
        "\n",
        "    Returns:\n",
        "        np.ndarray: A fixed-size vector representing the semantic meaning of the input.\n",
        "    \"\"\"\n",
        "    # Tokenize and prepare input for the model\n",
        "    inputs = text_tokenizer(text, return_tensors=\"pt\", padding=True, truncation=True)\n",
        "\n",
        "    # Forward pass to get model outputs\n",
        "    outputs = text_model(**inputs)\n",
        "\n",
        "    # Take the mean across all token embeddings to get a single vector (pooled representation)\n",
        "    embeddings = outputs.last_hidden_state.mean(dim=1)\n",
        "\n",
        "    # Convert to NumPy array and detach from computation graph\n",
        "    return embeddings[0].detach().numpy()\n",
        "\n",
        "# Example usage: Generate and preview the embedding of a test sentence\n",
        "text = \"This is a test sentence.\"\n",
        "embeddings = get_text_embeddings(text)\n",
        "print(embeddings[:5])  # Print first 5 dimensions for inspection\n"
      ]
    },
    {
      "cell_type": "markdown",
      "source": [
        "### Step 2: Define the Embedding Function\n",
        "We then define a function get_text_embeddings() which:\n",
        "\n",
        "- Tokenizes the input text\n",
        "- Runs it through the model\n",
        "- Computes the average of all token embeddings\n",
        "- Returns a single vector that represents the full sentence\n",
        "\n",
        "This vector will be used to query Qdrant to find the most relevant document chunks based on similarity."
      ],
      "metadata": {
        "id": "nXOx47EKw2ir"
      }
    },
    {
      "cell_type": "code",
      "source": [
        "def rag_formatted_response(user_query: str, context: list):\n",
        "    \"\"\"\n",
        "    Generate a response to the user query using the provided context,\n",
        "    with article references formatted as [1][2], etc.\n",
        "\n",
        "    This function performs the final step in the RAG pipeline—synthesizing an answer\n",
        "    from retrieved document chunks (context). It prompts the model to generate a\n",
        "    grounded response, explicitly citing sources using a reference format.\n",
        "\n",
        "    Args:\n",
        "        user_query (str): The user's original question.\n",
        "        context (list): List of text chunks retrieved from Qdrant (10-K or OpenAI docs).\n",
        "\n",
        "    Returns:\n",
        "        str: A generated response grounded in the retrieved context, with numbered citations.\n",
        "    \"\"\"\n",
        "\n",
        "    # Construct a RAG prompt that includes both:\n",
        "    # 1. The user's query\n",
        "    # 2. The supporting context documents\n",
        "    # The prompt instructs the model to answer using only the provided context,\n",
        "    # and to include citations like [1], [2], etc. based on chunk IDs or order.\n",
        "    rag_prompt = f\"\"\"\n",
        "       Based on the given context, answer the user query: {user_query}\\nContext:\\n{context}\n",
        "       and employ references to the ID of articles provided [ID], ensuring their relevance to the query.\n",
        "       The referencing should always be in the format of [1][2]... etc. </instructions>\n",
        "    \"\"\"\n",
        "\n",
        "    #  Call GPT-4o to generate the response using the RAG-style prompt\n",
        "    response = openaiclient.chat.completions.create(\n",
        "        model=\"gpt-4\",\n",
        "        messages=[\n",
        "            {\"role\": \"system\", \"content\": rag_prompt},\n",
        "        ]\n",
        "    )\n",
        "\n",
        "    # Return the model's generated answer\n",
        "    return response.choices[0].message.content\n"
      ],
      "metadata": {
        "id": "3r6MeyRz8sv7"
      },
      "execution_count": null,
      "outputs": []
    },
    {
      "cell_type": "markdown",
      "source": [
        "### Step 3: Define the RAG Response Generator\n",
        "After retrieving relevant text chunks from Qdrant, we use the rag_formatted_response() function to generate a final answer. This function:\n",
        "\n",
        "- Takes the user query and the retrieved document chunks\n",
        "- Builds a prompt that asks the language model (GPT-4o) to answer the question using only the provided context\n",
        "- Instructs the model to include references like [1], [2] for traceability\n",
        "\n",
        "This ensures the output is not only informative but also grounded in actual retrieved data.\n",
        "\n",
        "Together, these two functions lay the foundation for combining retrieval (from vector DB) and generation (from LLM) — the two pillars of a RAG system.\n",
        "\n"
      ],
      "metadata": {
        "id": "zdaeGcoCDw5w"
      }
    },
    {
      "cell_type": "code",
      "source": [
        "def retrieve_and_response(user_query: str, action: str):\n",
        "    \"\"\"\n",
        "    Retrieves relevant text chunks from the appropriate Qdrant collection\n",
        "    based on the query type, then generates a response using RAG.\n",
        "\n",
        "    This function powers the retrieval and response generation pipeline\n",
        "    for queries that are classified as either OPENAI-related or 10-K related.\n",
        "    It uses semantic search to fetch relevant context from a Qdrant vector store\n",
        "    and then generates a response using that context via a RAG prompt.\n",
        "\n",
        "    Args:\n",
        "        user_query (str): The user's input question.\n",
        "        action (str): The classification label from the router (e.g., \"OPENAI_QUERY\", \"10K_DOCUMENT_QUERY\").\n",
        "\n",
        "    Returns:\n",
        "        str: A model-generated response grounded in retrieved documents, or an error message.\n",
        "    \"\"\"\n",
        "\n",
        "    # Define mapping of routing labels to their respective Qdrant collections\n",
        "    collections = {\n",
        "        \"OPENAI_QUERY\": \"opnai_data\",           # Collection of OpenAI documentation embeddings\n",
        "        \"10K_DOCUMENT_QUERY\": \"10k_data\"        # Collection of 10-K financial document embeddings\n",
        "    }\n",
        "\n",
        "    try:\n",
        "        # Ensure that the provided action is valid\n",
        "        if action not in collections:\n",
        "            return \"Invalid action type for retrieval.\"\n",
        "\n",
        "        # Step 1: Convert the user query into a dense vector (embedding)\n",
        "        try:\n",
        "            query = get_text_embeddings(user_query)\n",
        "        except Exception as embed_err:\n",
        "            return f\"Embedding error: {embed_err}\"  # Fail early if embedding fails\n",
        "\n",
        "        # Step 2: Retrieve top-matching chunks from the relevant Qdrant collection\n",
        "        try:\n",
        "            text_hits = client.query_points(\n",
        "                collection_name=collections[action],  # Choose the right collection based on routing\n",
        "                query=query,                          # The embedding of the user's query\n",
        "                limit=3                               # Fetch top 3 relevant chunks\n",
        "            ).points\n",
        "        except Exception as qdrant_err:\n",
        "            return f\"Vector DB query error: {qdrant_err}\"  # Handle Qdrant access issues\n",
        "\n",
        "        # Extract the raw content from the retrieved vector hits\n",
        "        contents = [point.payload['content'] for point in text_hits]\n",
        "\n",
        "        # If no relevant content is found, return early\n",
        "        if not contents:\n",
        "            return \"No relevant content found in the database.\"\n",
        "\n",
        "        # Step 3: Pass the retrieved context to the RAG model to generate a response\n",
        "        try:\n",
        "            response = rag_formatted_response(user_query, contents)\n",
        "            return response\n",
        "        except Exception as rag_err:\n",
        "            return f\"RAG response error: {rag_err}\"  # Handle generation failures\n",
        "\n",
        "    # Catch any unforeseen errors in the overall process\n",
        "    except Exception as err:\n",
        "        return f\"Unexpected error: {err}\"\n"
      ],
      "metadata": {
        "id": "hp0y2J1AgX2t"
      },
      "execution_count": null,
      "outputs": []
    },
    {
      "cell_type": "markdown",
      "source": [
        "# 5. Putting It All Together: Running the Agentic RAG\n",
        "In this final step, we combine everything into a single function that controls the entire Agentic RAG workflow. The agentic_rag() function acts as the main orchestrator of the system.\n",
        "\n",
        "Here’s what it does:\n",
        "\n",
        "- Prints the user's query for reference.\n",
        "- Uses the router function (powered by GPT) to decide which type of data source to use:\n",
        "  - OpenAI documentation\n",
        "  - 10-K financial reports\n",
        "- Internet search\n",
        "- Calls the correct function based on the route:\n",
        "- If it’s an OpenAI or 10-K query, it retrieves data from Qdrant and generates a RAG response.\n",
        "- If it’s an Internet query, it uses the ARES API to fetch live information.\n",
        "- Displays the final response, neatly formatted in the console.\n",
        "\n",
        "This step brings the agentic loop full circle—from understanding the question, reasoning about where to search, to finally responding with the best possible answer."
      ],
      "metadata": {
        "id": "yfYzErTYzhnK"
      }
    },
    {
      "cell_type": "code",
      "source": [
        "# Dictionary that maps the route labels (decided by the router) to their respective functions\n",
        "# Each type of query is handled differently:\n",
        "# - OPENAI_QUERY and 10K_DOCUMENT_QUERY use document retrieval + RAG\n",
        "# - INTERNET_QUERY uses a web search API\n",
        "routes = {\n",
        "    \"OPENAI_QUERY\": retrieve_and_response,\n",
        "    \"10K_DOCUMENT_QUERY\": retrieve_and_response,\n",
        "    \"INTERNET_QUERY\": get_internet_content,\n",
        "}\n",
        "\n",
        "def agentic_rag(user_query: str):\n",
        "    \"\"\"\n",
        "    Main function that runs the full Agentic RAG system.\n",
        "\n",
        "    This function takes a user's question, decides what type of query it is (OpenAI-related,\n",
        "    financial document-related, or general internet), and then calls the right function\n",
        "    to handle it. Finally, it prints out the full conversation and response.\n",
        "\n",
        "    Args:\n",
        "        user_query (str): The user's input question.\n",
        "\n",
        "    Returns:\n",
        "        None (It just prints the result nicely to the console)\n",
        "    \"\"\"\n",
        "\n",
        "    #  Terminal color codes to make the printed output easier to read and visually structured\n",
        "    CYAN = \"\\033[96m\"\n",
        "    GREY = \"\\033[90m\"\n",
        "    BOLD = \"\\033[1m\"\n",
        "    RESET = \"\\033[0m\"\n",
        "\n",
        "    try:\n",
        "        # Step 1: Print the user's original question to the console\n",
        "        print(f\"{BOLD}{CYAN}👤 User Query:{RESET} {user_query}\\n\")\n",
        "\n",
        "        # Step 2: Use the router (powered by GPT) to decide which route the query belongs to\n",
        "        try:\n",
        "            response = route_query(user_query)\n",
        "        except Exception as route_err:\n",
        "            # If something goes wrong while classifying the query, show an error message\n",
        "            print(f\"{BOLD}{CYAN}🤖 BOT RESPONSE:{RESET}\\n\")\n",
        "            print(f\"Routing error: {route_err}\\n\")\n",
        "            return\n",
        "\n",
        "        # Extract the routing decision and the reason behind it\n",
        "        action = response.get(\"action\")  # e.g., \"OPENAI_QUERY\"\n",
        "        reason = response.get(\"reason\")  # e.g., \"Related to OpenAI tools\"\n",
        "\n",
        "        # Step 3: Show the selected route and why it was chosen\n",
        "        print(f\"{GREY}📍 Selected Route: {action}\")\n",
        "        print(f\"📝 Reason: {reason}\")\n",
        "        print(f\"⚙️ Processing query...{RESET}\\n\")\n",
        "\n",
        "        # Step 4: Call the correct function depending on the route (retrieval or web search)\n",
        "        try:\n",
        "            route_function = routes.get(action)  # Find the function to use for this route\n",
        "            if route_function:\n",
        "                result = route_function(user_query, action)  # Run the function with the user's input\n",
        "            else:\n",
        "                result = f\"Unsupported action: {action}\"  # Catch unknown routing types\n",
        "        except Exception as exec_err:\n",
        "            result = f\"Execution error: {exec_err}\"  # Handle failure in the chosen route function\n",
        "\n",
        "        # Step 5: Print the final response to the user\n",
        "        print(f\"{BOLD}{CYAN}🤖 BOT RESPONSE:{RESET}\\n\")\n",
        "        print(f\"{result}\\n\")\n",
        "\n",
        "    except Exception as err:\n",
        "        # Catch-all for any unexpected errors in the overall logic\n",
        "        print(f\"{BOLD}{CYAN}🤖 BOT RESPONSE:{RESET}\\n\")\n",
        "        print(f\"Unexpected error occurred: {err}\\n\")\n"
      ],
      "metadata": {
        "id": "ssG-BM9GpT-p"
      },
      "execution_count": null,
      "outputs": []
    },
    {
      "cell_type": "code",
      "source": [
        "\n",
        "agentic_rag(\"what was uber revenue in 2021?\")"
      ],
      "metadata": {
        "id": "0-rTHJpGDTea"
      },
      "execution_count": null,
      "outputs": []
    },
    {
      "cell_type": "code",
      "source": [
        "agentic_rag(\"what was lyft revenue in 2024?\")"
      ],
      "metadata": {
        "id": "TncVUsVpu3WC"
      },
      "execution_count": null,
      "outputs": []
    },
    {
      "cell_type": "code",
      "source": [
        "agentic_rag(\"List me down new LLMs in 2025\")"
      ],
      "metadata": {
        "id": "Mdb97ckP6y2h"
      },
      "execution_count": null,
      "outputs": []
    },
    {
      "cell_type": "code",
      "source": [
        "agentic_rag(\"how to work with chat completions?\")"
      ],
      "metadata": {
        "id": "wpO6W8peh1qO"
      },
      "execution_count": null,
      "outputs": []
    },
    {
      "cell_type": "code",
      "source": [],
      "metadata": {
        "id": "3PDb2dwa68E7"
      },
      "execution_count": null,
      "outputs": []
    },
    {
      "cell_type": "markdown",
      "source": [
        "#Assignment: Implement sub-query division"
      ],
      "metadata": {
        "id": "DKagaRyI4jaK"
      }
    },
    {
      "cell_type": "markdown",
      "source": [
        "In our current agentic retrieval-augmented generation (RAG) setup, there's a key limitation: when a user submits a query that contains multiple distinct questions phrased as a single input, the system treats it as a single unified search. As a result, the retrieval engine performs only one operation on the vector databases or external tools, which often leads to incomplete or less relevant results.\n",
        "\n",
        "\n",
        "To address this, the assignment introduces a new functionality called subquery division. This involves breaking down complex, compound queries into multiple, focused subqueries. Each subquery is processed independently, allowing the system to retrieve more accurate and context-specific information. By handling these subqueries separately, the agent can generate more complete and relevant responses."
      ],
      "metadata": {
        "id": "JZvmbi0QxPzD"
      }
    },
    {
      "cell_type": "code",
      "source": [
        "#Reference Code for sub query division (For Guidance Only)\n",
        "\n",
        "def sub_queries(user_query):\n",
        "  sub_queries_prompt= f\"\"\"\n",
        "  You are a query router. If the input contains multiple distinct questions, break it into sub-questions. Otherwise, keep it as one. Return a JSON object like:\n",
        "\n",
        "  {{\n",
        "      \"subQuestions\": [\"...\"]\n",
        "  }}\n",
        "\n",
        "\n",
        "  Query: \"{user_query}\"\n",
        "  Output:\n",
        "  \"\"\"\n",
        "  response = openaiclient.chat.completions.create(\n",
        "        model=\"gpt-4o\",\n",
        "        messages=[\n",
        "            {\"role\": \"system\", \"content\": sub_queries_prompt},\n",
        "        ]\n",
        "    )\n",
        "  return response.choices[0].message.content\n"
      ],
      "metadata": {
        "id": "DBq_Y-w1B0DF"
      },
      "execution_count": null,
      "outputs": []
    },
    {
      "cell_type": "code",
      "source": [
        "print(sub_queries(\"what is revenue of lyft and what is reveue for uber in 2024\"))"
      ],
      "metadata": {
        "id": "ldR3RgLLw3UE"
      },
      "execution_count": null,
      "outputs": []
    }
  ],
  "metadata": {
    "colab": {
      "provenance": []
    },
    "kernelspec": {
      "display_name": "Python 3",
      "name": "python3"
    },
    "language_info": {
      "name": "python"
    }
  },
  "nbformat": 4,
  "nbformat_minor": 0
}