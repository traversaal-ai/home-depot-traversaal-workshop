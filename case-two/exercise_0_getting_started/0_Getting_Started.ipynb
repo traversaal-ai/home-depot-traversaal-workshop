{
 "cells": [
  {
   "cell_type": "markdown",
   "id": "e56a0b07",
   "metadata": {},
   "source": "## Environment Setup\n\nBefore we begin, we need to configure the environment for ADK to work with Vertex AI and Google Cloud. This ensures that our agents can access the right cloud services.\n\nThese settings:\n- Tell ADK to use Vertex AI for LLM requests\n- Set the active GCP project and region\n- No output is expected here—this just establishes the foundation"
  },
  {
   "cell_type": "markdown",
   "id": "luhhknyizb9",
   "source": "# Getting Started with Google ADK (Agent Development Kit)\n\nWelcome to Google ADK! This notebook will introduce you to the fundamentals of building AI agents that can reason, use tools, and work together to solve complex tasks.\n\n## What is Google ADK?\n\nGoogle ADK (Agent Development Kit) is a framework for building production-ready AI agents powered by Google's Gemini models. It provides:\n\n- **Agents**: AI-powered entities that can reason, plan, and take actions\n- **Tools**: Functions that agents can call to interact with the external world\n- **Orchestration**: Ways to combine multiple agents for complex workflows\n- **Sessions**: Conversation management and state persistence\n- **Runtime**: Infrastructure to execute agents and handle their interactions\n\nBy the end of this notebook, you'll understand:\n1. How to create basic conversational agents\n2. The different types of agents available in ADK\n3. How to equip agents with tools\n4. How to manage agent execution and conversations\n\nLet's start by setting up our environment!",
   "metadata": {}
  },
  {
   "cell_type": "code",
   "execution_count": null,
   "id": "7009ff0b",
   "metadata": {},
   "outputs": [],
   "source": [
    "import os\n",
    "\n",
    "os.environ[\"GOOGLE_GENAI_USE_VERTEXAI\"] = \"True\"\n",
    "os.environ[\"GOOGLE_CLOUD_PROJECT\"] = \"traversaal-research\"\n",
    "os.environ[\"GOOGLE_CLOUD_LOCATION\"] = \"us-central1\""
   ]
  },
  {
   "cell_type": "markdown",
   "id": "i1nc88b4xu",
   "source": "## Creating Your First Agent (No Tools!)\n\nLet's start simple. In ADK, an **Agent** (also called **LlmAgent**) is an AI entity powered by a language model. Even without any tools, agents can:\n- Have conversations\n- Answer questions using their training knowledge\n- Follow specific instructions and personas\n\nHere's your first agent - a helpful assistant with a specific personality:",
   "metadata": {}
  },
  {
   "cell_type": "code",
   "id": "j36wnhl1nb",
   "source": "from google.adk.agents import Agent\n\n# Create a simple conversational agent - no tools needed!\nhelpful_agent = Agent(\n    name=\"helpful_assistant\",\n    model=\"gemini-2.0-flash\",\n    description=\"A friendly and knowledgeable assistant\",\n    instruction=\"\"\"You are a helpful assistant who loves to share interesting facts.\n    When answering questions, you:\n    - Are friendly and encouraging\n    - Include an interesting related fact when relevant\n    - Keep responses concise but informative\n    \"\"\"\n)\n\nprint(\"✅ Created your first agent! No tools required.\")",
   "metadata": {},
   "execution_count": null,
   "outputs": []
  },
  {
   "cell_type": "markdown",
   "id": "7z1bi0j5uns",
   "source": "### Quick Test: Agent Without Tools\n\nBefore we dive deeper, let's see how this basic agent behaves. We'll set up a minimal runtime to interact with it:\n\n> Note: We'll explain Sessions and Runners in detail later. For now, just observe how the agent responds using only its LLM capabilities.",
   "metadata": {}
  },
  {
   "cell_type": "code",
   "id": "04ulkkqyr3bp",
   "source": "# Quick setup to test our agent\nfrom google.adk.sessions import InMemorySessionService\nfrom google.adk.runners import Runner\nfrom google.genai import types\n\n# Minimal setup (we'll explain these later)\nsession_service = InMemorySessionService()\nawait session_service.create_session(\n    app_name=\"getting_started\",\n    user_id=\"user_1\", \n    session_id=\"test_session\"\n)\n\nrunner = Runner(\n    agent=helpful_agent,\n    app_name=\"getting_started\",\n    session_service=session_service\n)\n\n# Ask a question - no tools involved!\ncontent = types.Content(\n    role='user', \n    parts=[types.Part(text=\"What's the capital of France?\")]\n)\n\nprint(\"User: What's the capital of France?\\n\")\nasync for event in runner.run_async(\n    user_id=\"user_1\", \n    session_id=\"test_session\", \n    new_message=content\n):\n    if event.is_final_response() and event.content:\n        print(f\"Agent: {event.content.parts[0].text}\")",
   "metadata": {},
   "execution_count": null,
   "outputs": []
  },
  {
   "cell_type": "markdown",
   "id": "7uy0qawnxgp",
   "source": "## Understanding Different Types of Agents\n\nADK provides several types of agents for different purposes. According to the [official ADK documentation](https://google.github.io/adk-docs/agents/), here are the main types:\n\n### 1. **LLM Agents (Agent/LlmAgent)**\n- Powered by language models (like Gemini)\n- Can reason, make decisions, and use tools\n- The most common type for interactive tasks\n\n### 2. **Workflow Agents**\nThese orchestrate multiple agents without doing LLM reasoning themselves:\n\n- **Sequential Agent**: Runs sub-agents one after another\n- **Parallel Agent**: Runs sub-agents simultaneously  \n- **Loop Agent**: Iterates over data or repeats tasks\n\nLet's see examples of each type!",
   "metadata": {}
  },
  {
   "cell_type": "code",
   "id": "08qrdj932k2c",
   "source": "from google.adk.agents import Agent, SequentialAgent, ParallelAgent, LoopAgent\n\n# Example 1: Sequential Agent - runs agents one after another\ngreeter_agent = Agent(\n    name=\"greeter\",\n    model=\"gemini-2.0-flash\",\n    description=\"Greets the user\",\n    instruction=\"Greet the user warmly and ask how their day is going.\"\n)\n\nfact_agent = Agent(\n    name=\"fact_teller\", \n    model=\"gemini-2.0-flash\",\n    description=\"Shares an interesting fact\",\n    instruction=\"Share one interesting fact about technology or science.\"\n)\n\n# Sequential: First greet, then share a fact\nsequential_demo = SequentialAgent(\n    name=\"greeting_sequence\",\n    sub_agents=[greeter_agent, fact_agent],\n    description=\"Greets then shares a fact\"\n)\n\nprint(\"✅ Created a Sequential Agent that will run agents in order\")",
   "metadata": {},
   "execution_count": null,
   "outputs": []
  },
  {
   "cell_type": "code",
   "id": "bu1c7chm6m",
   "source": "# Example 2: Parallel Agent - runs multiple agents at the same time\nweather_reporter = Agent(\n    name=\"weather_reporter\",\n    model=\"gemini-2.0-flash\", \n    description=\"Reports on weather\",\n    instruction=\"Describe today's weather as sunny and pleasant.\"\n)\n\nnews_reporter = Agent(\n    name=\"news_reporter\",\n    model=\"gemini-2.0-flash\",\n    description=\"Reports on news\",\n    instruction=\"Share a positive headline about renewable energy.\"\n)\n\n# Parallel: Get weather and news simultaneously\nparallel_demo = ParallelAgent(\n    name=\"morning_briefing\",\n    sub_agents=[weather_reporter, news_reporter],\n    description=\"Provides weather and news in parallel\"\n)\n\nprint(\"✅ Created a Parallel Agent that will run agents simultaneously\")",
   "metadata": {},
   "execution_count": null,
   "outputs": []
  },
  {
   "cell_type": "markdown",
   "id": "xqjksavcttp",
   "source": "### Why Different Agent Types?\n\nEach agent type serves a specific purpose:\n\n- **LLM Agents**: For tasks requiring reasoning, decision-making, or tool use\n- **Sequential Agents**: When tasks must happen in a specific order (e.g., authenticate → fetch data → process)\n- **Parallel Agents**: When tasks are independent and can run simultaneously (e.g., fetching from multiple APIs)\n- **Loop Agents**: When you need to process lists or repeat operations\n\nNow that we understand agent types, let's learn about **tools** - how agents interact with the external world!",
   "metadata": {}
  },
  {
   "cell_type": "markdown",
   "id": "86f07613",
   "metadata": {},
   "source": "## Introduction to Tools\n\nWhile agents can have conversations using their LLM knowledge, they need **tools** to interact with the external world. According to the [ADK tools documentation](https://google.github.io/adk-docs/tools/), tools enable agents to:\n\n- Fetch real-time data (weather, stock prices, etc.)\n- Interact with APIs and databases\n- Perform calculations or transformations\n- Access information beyond their training data\n\n### Types of Tools in ADK\n\n1. **Function Tools**: Python functions you write\n2. **Built-in Tools**: Pre-made tools for common tasks (BigQuery, Search, etc.)\n3. **Remote Tools**: Tools hosted elsewhere (via MCP or other protocols)\n\nLet's start with Function Tools - the simplest and most flexible type!"
  },
  {
   "cell_type": "code",
   "execution_count": 24,
   "id": "c86dc23c",
   "metadata": {},
   "outputs": [],
   "source": [
    "import datetime\n",
    "from zoneinfo import ZoneInfo\n",
    "from google.adk.agents import Agent\n",
    "\n",
    "# A tool to get weather and time information for a city.\n",
    "def get_weather(city: str) -> dict:\n",
    "    \"\"\"Retrieves the current weather report for a specified city.\n",
    "\n",
    "    Args:\n",
    "        city (str): The name of the city for which to retrieve the weather report.\n",
    "\n",
    "    Returns:\n",
    "        dict: status and result or error msg.\n",
    "    \"\"\"\n",
    "    if city.lower() == \"new york\":\n",
    "        return {\n",
    "            \"status\": \"success\",\n",
    "            \"report\": (\n",
    "                \"The weather in New York is sunny with a temperature of 25 degrees\"\n",
    "                \" Celsius (77 degrees Fahrenheit).\"\n",
    "            ),\n",
    "        }\n",
    "    else:\n",
    "        return {\n",
    "            \"status\": \"error\",\n",
    "            \"error_message\": f\"Weather information for '{city}' is not available.\",\n",
    "        }\n",
    "\n",
    "\n",
    "# A tool to get the current time in a specified city.\n",
    "def get_current_time(city: str) -> dict:\n",
    "    \"\"\"Returns the current time in a specified city.\n",
    "\n",
    "    Args:\n",
    "        city (str): The name of the city for which to retrieve the current time.\n",
    "\n",
    "    Returns:\n",
    "        dict: status and result or error msg.\n",
    "    \"\"\"\n",
    "\n",
    "    if city.lower() == \"new york\":\n",
    "        tz_identifier = \"America/New_York\"\n",
    "    else:\n",
    "        return {\n",
    "            \"status\": \"error\",\n",
    "            \"error_message\": (\n",
    "                f\"Sorry, I don't have timezone information for {city}.\"\n",
    "            ),\n",
    "        }\n",
    "\n",
    "    tz = ZoneInfo(tz_identifier)\n",
    "    now = datetime.datetime.now(tz)\n",
    "    report = (\n",
    "        f'The current time in {city} is {now.strftime(\"%Y-%m-%d %H:%M:%S %Z%z\")}'\n",
    "    )\n",
    "    return {\"status\": \"success\", \"report\": report}\n",
    "\n",
    "\n"
   ]
  },
  {
   "cell_type": "markdown",
   "id": "784cc739",
   "metadata": {},
   "source": "## Combining Agents with Tools\n\nNow let's give our agent some tools! When an agent has tools:\n1. It reads the tool's docstring to understand what it does\n2. It decides when to use the tool based on the user's request\n3. It calls the tool and processes the results\n4. It formulates a response using the tool's output\n\nLet's create an agent with weather and time tools:"
  },
  {
   "cell_type": "code",
   "execution_count": 26,
   "id": "2826bf34",
   "metadata": {},
   "outputs": [],
   "source": [
    "# Define the root agent with the tools for weather and time.\n",
    "weather_agent = Agent(\n",
    "    name=\"weather_time_agent\",\n",
    "    model=\"gemini-2.0-flash\",\n",
    "    description=(\n",
    "        \"Agent to answer questions about the time and weather in a city.\"\n",
    "    ),\n",
    "    instruction=(\n",
    "        \"You are a helpful agent who can answer user questions about the time and weather in a city.\"\n",
    "    ),\n",
    "    tools=[get_weather, get_current_time],\n",
    ")"
   ]
  },
  {
   "cell_type": "markdown",
   "id": "c9f53f35",
   "metadata": {},
   "source": "## Understanding Sessions and Runners\n\nBefore we run our tool-equipped agent, let's understand two key ADK concepts:\n\n### Sessions\nAccording to the [ADK sessions documentation](https://google.github.io/adk-docs/sessions/), a **session** represents:\n- A single conversation between a user and agents\n- Message history and context\n- Temporary state that agents can access\n\n### Runners\nFrom the [ADK runtime documentation](https://google.github.io/adk-docs/runtime/), a **runner**:\n- Executes agents and manages their lifecycle\n- Handles tool calls and event streaming\n- Maintains the conversation flow\n\nLet's set these up for our weather agent:"
  },
  {
   "cell_type": "code",
   "execution_count": null,
   "id": "8572670a",
   "metadata": {},
   "outputs": [],
   "source": [
    "APP_NAME = \"weather_tutorial_app\"\n",
    "USER_ID = \"user_1\"\n",
    "SESSION_ID = \"session_001\""
   ]
  },
  {
   "cell_type": "markdown",
   "id": "aaa59fa6",
   "metadata": {},
   "source": [
    "### Creating a Session\n",
    "\n",
    "Agents need context to hold a meaningful conversation—just like humans, they should remember what’s already been said or done.\n",
    "\n",
    "In ADK, a **Session** represents a single, ongoing conversation. It tracks:\n",
    "\n",
    "- The **message history** (`events`)\n",
    "- Any **temporary state** (e.g. user inputs or results)\n",
    "- Session **metadata** like user ID and app name\n",
    "\n",
    "We use `InMemorySessionService` to create the session. This is suitable for local development and fast iteration. For production use, ADK also supports persistent session backends."
   ]
  },
  {
   "cell_type": "code",
   "execution_count": null,
   "id": "c5cf06e4",
   "metadata": {},
   "outputs": [],
   "source": [
    "from google.adk.sessions import InMemorySessionService\n",
    "\n",
    "session_service = InMemorySessionService()\n",
    "\n",
    "session = await session_service.create_session(\n",
    "    app_name=APP_NAME,\n",
    "    user_id=USER_ID,\n",
    "    session_id=SESSION_ID\n",
    ")"
   ]
  },
  {
   "cell_type": "markdown",
   "id": "73922ca8",
   "metadata": {},
   "source": [
    "### Creating a Runner\n",
    "\n",
    "The `Runner` is responsible for managing the **agent execution loop**—it handles the interaction between the user, the agent, and the tools.\n",
    "\n",
    "In this step, we initialise a `Runner` with:\n",
    "\n",
    "- The `agent` we defined earlier  \n",
    "- The `app_name` for tracking and logging  \n",
    "- The `session_service` to maintain conversation context\n",
    "\n",
    "This setup allows the runner to route inputs through the agent, trigger tool calls, and maintain state across turns—all within the defined session."
   ]
  },
  {
   "cell_type": "code",
   "execution_count": null,
   "id": "9d4d833b",
   "metadata": {},
   "outputs": [],
   "source": [
    "from google.adk.runners import Runner\n",
    "\n",
    "runner = Runner(\n",
    "    agent=weather_agent, # The agent we want to run\n",
    "    app_name=APP_NAME,   # Associates runs with our app\n",
    "    session_service=session_service # Uses our session manager\n",
    ")"
   ]
  },
  {
   "cell_type": "markdown",
   "id": "9a41371e",
   "metadata": {},
   "source": "## Running Your Tool-Equipped Agent\n\nNow let's see our agent in action! We'll create a helper function to interact with the agent and observe:\n- How it decides when to use tools\n- The event stream showing tool calls\n- How it handles successful and failed tool calls"
  },
  {
   "cell_type": "code",
   "execution_count": 1,
   "id": "2c7d8d3b",
   "metadata": {},
   "outputs": [],
   "source": [
    "# @title Define Agent Interaction Function\n",
    "\n",
    "from google.genai import types # For creating message Content/Parts\n",
    "\n",
    "async def call_agent_async(query: str, runner, user_id, session_id):\n",
    "  \"\"\"Sends a query to the agent and prints the final response.\"\"\"\n",
    "  print(f\"\\n>>> User Query: {query}\")\n",
    "\n",
    "  # Prepare the user's message in ADK format\n",
    "  content = types.Content(role='user', parts=[types.Part(text=query)])\n",
    "\n",
    "  final_response_text = \"Agent did not produce a final response.\" # Default\n",
    "\n",
    "  # Key Concept: run_async executes the agent logic and yields Events.\n",
    "  # We iterate through events to find the final answer.\n",
    "  async for event in runner.run_async(user_id=user_id, session_id=session_id, new_message=content):\n",
    "      # You can uncomment the line below to see *all* events during execution\n",
    "      # print(f\"  [Event] Author: {event.author}, Type: {type(event).__name__}, Final: {event.is_final_response()}, Content: {event.content}\")\n",
    "\n",
    "      # Key Concept: is_final_response() marks the concluding message for the turn.\n",
    "      if event.is_final_response():\n",
    "          if event.content and event.content.parts:\n",
    "             # Assuming text response in the first part\n",
    "             final_response_text = event.content.parts[0].text\n",
    "          elif event.actions and event.actions.escalate: # Handle potential errors/escalations\n",
    "             final_response_text = f\"Agent escalated: {event.error_message or 'No specific message.'}\"\n",
    "          # Add more checks here if needed (e.g., specific error codes)\n",
    "          break # Stop processing events once the final response is found\n",
    "\n",
    "  print(f\"<<< Agent Response: {final_response_text}\")"
   ]
  },
  {
   "cell_type": "markdown",
   "id": "62a15f11",
   "metadata": {},
   "source": "### Observing the Agent's Decision Making\n\nIn the examples below, notice how:\n1. The agent analyzes the user's request\n2. It decides which tool(s) to use (or none at all)\n3. It handles both successful responses and errors gracefully\n4. The conversation context is maintained across interactions"
  },
  {
   "cell_type": "code",
   "execution_count": 33,
   "id": "110b1b42",
   "metadata": {},
   "outputs": [
    {
     "name": "stdout",
     "output_type": "stream",
     "text": [
      "\n",
      ">>> User Query: What is the weather like in London?\n"
     ]
    },
    {
     "name": "stderr",
     "output_type": "stream",
     "text": [
      "Warning: there are non-text parts in the response: ['function_call'], returning concatenated text result from text parts. Check the full candidates.content.parts accessor to get the full model response.\n"
     ]
    },
    {
     "name": "stdout",
     "output_type": "stream",
     "text": [
      "  [Event] Author: weather_time_agent, Type: Event, Final: False, Content: parts=[Part(\n",
      "  function_call=FunctionCall(\n",
      "    args={\n",
      "      'city': 'London'\n",
      "    },\n",
      "    id='adk-f92f26c8-8a65-44a3-973c-e0186aed30b3',\n",
      "    name='get_weather'\n",
      "  )\n",
      ")] role='model'\n",
      "  [Event] Author: weather_time_agent, Type: Event, Final: False, Content: parts=[Part(\n",
      "  function_response=FunctionResponse(\n",
      "    id='adk-f92f26c8-8a65-44a3-973c-e0186aed30b3',\n",
      "    name='get_weather',\n",
      "    response={\n",
      "      'error_message': \"Weather information for 'London' is not available.\",\n",
      "      'status': 'error'\n",
      "    }\n",
      "  )\n",
      ")] role='user'\n",
      "  [Event] Author: weather_time_agent, Type: Event, Final: True, Content: parts=[Part(\n",
      "  text='I am sorry, I cannot get the weather in London. There was an error.'\n",
      ")] role='model'\n",
      "<<< Agent Response: I am sorry, I cannot get the weather in London. There was an error.\n",
      "\n",
      ">>> User Query: How about Paris?\n"
     ]
    },
    {
     "name": "stderr",
     "output_type": "stream",
     "text": [
      "Warning: there are non-text parts in the response: ['function_call'], returning concatenated text result from text parts. Check the full candidates.content.parts accessor to get the full model response.\n"
     ]
    },
    {
     "name": "stdout",
     "output_type": "stream",
     "text": [
      "  [Event] Author: weather_time_agent, Type: Event, Final: False, Content: parts=[Part(\n",
      "  function_call=FunctionCall(\n",
      "    args={\n",
      "      'city': 'Paris'\n",
      "    },\n",
      "    id='adk-b08437a9-ee12-4110-906f-0d804abdc863',\n",
      "    name='get_weather'\n",
      "  )\n",
      ")] role='model'\n",
      "  [Event] Author: weather_time_agent, Type: Event, Final: False, Content: parts=[Part(\n",
      "  function_response=FunctionResponse(\n",
      "    id='adk-b08437a9-ee12-4110-906f-0d804abdc863',\n",
      "    name='get_weather',\n",
      "    response={\n",
      "      'error_message': \"Weather information for 'Paris' is not available.\",\n",
      "      'status': 'error'\n",
      "    }\n",
      "  )\n",
      ")] role='user'\n",
      "  [Event] Author: weather_time_agent, Type: Event, Final: True, Content: parts=[Part(\n",
      "  text='I am sorry, I cannot get the weather in Paris. There was an error.'\n",
      ")] role='model'\n",
      "<<< Agent Response: I am sorry, I cannot get the weather in Paris. There was an error.\n",
      "\n",
      ">>> User Query: Tell me the weather in New York\n"
     ]
    },
    {
     "name": "stderr",
     "output_type": "stream",
     "text": [
      "Warning: there are non-text parts in the response: ['function_call'], returning concatenated text result from text parts. Check the full candidates.content.parts accessor to get the full model response.\n"
     ]
    },
    {
     "name": "stdout",
     "output_type": "stream",
     "text": [
      "  [Event] Author: weather_time_agent, Type: Event, Final: False, Content: parts=[Part(\n",
      "  function_call=FunctionCall(\n",
      "    args={\n",
      "      'city': 'New York'\n",
      "    },\n",
      "    id='adk-ca9f62c5-4925-4c3a-a498-3f64b62fe819',\n",
      "    name='get_weather'\n",
      "  )\n",
      ")] role='model'\n",
      "  [Event] Author: weather_time_agent, Type: Event, Final: False, Content: parts=[Part(\n",
      "  function_response=FunctionResponse(\n",
      "    id='adk-ca9f62c5-4925-4c3a-a498-3f64b62fe819',\n",
      "    name='get_weather',\n",
      "    response={\n",
      "      'report': 'The weather in New York is sunny with a temperature of 25 degrees Celsius (77 degrees Fahrenheit).',\n",
      "      'status': 'success'\n",
      "    }\n",
      "  )\n",
      ")] role='user'\n",
      "  [Event] Author: weather_time_agent, Type: Event, Final: True, Content: parts=[Part(\n",
      "  text='OK. The weather in New York is sunny with a temperature of 25 degrees Celsius (77 degrees Fahrenheit).'\n",
      ")] role='model'\n",
      "<<< Agent Response: OK. The weather in New York is sunny with a temperature of 25 degrees Celsius (77 degrees Fahrenheit).\n"
     ]
    }
   ],
   "source": [
    "# @title Run the Initial Conversation\n",
    "\n",
    "# We need an async function to await our interaction helper\n",
    "async def run_conversation():\n",
    "    await call_agent_async(\"What is the weather like in London?\",\n",
    "                                       runner=runner,\n",
    "                                       user_id=USER_ID,\n",
    "                                       session_id=SESSION_ID)\n",
    "\n",
    "    await call_agent_async(\"How about Paris?\",\n",
    "                                       runner=runner,\n",
    "                                       user_id=USER_ID,\n",
    "                                       session_id=SESSION_ID) # Expecting the tool's error message\n",
    "\n",
    "    await call_agent_async(\"Tell me the weather in New York\",\n",
    "                                       runner=runner,\n",
    "                                       user_id=USER_ID,\n",
    "                                       session_id=SESSION_ID)\n",
    "\n",
    "# Execute the conversation using await in an async context (like Colab/Jupyter)\n",
    "await run_conversation()\n",
    "\n",
    "# --- OR ---\n",
    "\n",
    "# Uncomment the following lines if running as a standard Python script (.py file):\n",
    "# import asyncio\n",
    "# if __name__ == \"__main__\":\n",
    "#     try:\n",
    "#         asyncio.run(run_conversation())\n",
    "#     except Exception as e:\n",
    "#         print(f\"An error occurred: {e}\")"
   ]
  },
  {
   "cell_type": "markdown",
   "id": "7zixjnwbwe6",
   "source": "## Key Takeaways\n\nCongratulations! You've learned the fundamentals of Google ADK:\n\n### 1. **Agents Come in Different Types**\n- **LLM Agents**: For reasoning and tool use\n- **Workflow Agents**: For orchestrating multiple agents (Sequential, Parallel, Loop)\n\n### 2. **Tools Extend Agent Capabilities**\n- Function tools are Python functions with descriptive docstrings\n- Agents decide when and how to use tools based on context\n- Tools can return success or error states\n\n### 3. **Sessions and Runners Manage Execution**\n- Sessions maintain conversation context\n- Runners execute agents and handle the event stream\n- Events show the agent's reasoning process\n\n### 4. **Progressive Complexity**\n- Start with simple conversational agents\n- Add tools for external interactions\n- Combine agents for complex workflows\n\n## Next Steps\n\nNow that you understand the basics, you can:\n1. Create custom tools for your specific needs\n2. Build multi-agent workflows with Sequential and Parallel agents\n3. Explore built-in tools for BigQuery, Search, and more\n4. Check out the [official ADK documentation](https://google.github.io/adk-docs) for advanced features\n\nIn the next notebook, we'll build a real-world data orchestration pipeline using these concepts!",
   "metadata": {}
  }
 ],
 "metadata": {
  "kernelspec": {
   "display_name": "venv",
   "language": "python",
   "name": "python3"
  },
  "language_info": {
   "codemirror_mode": {
    "name": "ipython",
    "version": 3
   },
   "file_extension": ".py",
   "mimetype": "text/x-python",
   "name": "python",
   "nbconvert_exporter": "python",
   "pygments_lexer": "ipython3",
   "version": "3.13.4"
  }
 },
 "nbformat": 4,
 "nbformat_minor": 5
}