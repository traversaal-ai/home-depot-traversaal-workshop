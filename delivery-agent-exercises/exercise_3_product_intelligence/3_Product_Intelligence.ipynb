{
 "cells": [
  {
   "cell_type": "markdown",
   "metadata": {},
   "source": "# Exercise 3: Product Intelligence & Delivery Matching\n\nIn this exercise, we'll analyze products to understand delivery requirements, check vehicle compatibility, and calculate priority scores. This intelligence helps GOAs identify which deliveries need immediate attention.\n\n## The Journey So Far\n\n```\n1. Data Collection (Exercise 1) ✅ → collected_order_data.json\n   ↓\n2. Risk Assessment (Exercise 2) ✅ → risk_assessment_output.json\n   ↓\n3. Product Intelligence (THIS EXERCISE) → product_intelligence_output.json\n   ↓\n4. Communication & Cases (Exercise 4) → final_case_card.json\n```\n\n## Important: Order Selection\nThis exercise uses data from the previous exercises. Make sure you've run Exercises 1 and 2 with your selected order first!"
  },
  {
   "cell_type": "markdown",
   "metadata": {},
   "source": [
    "## Environment Setup"
   ]
  },
  {
   "cell_type": "code",
   "execution_count": null,
   "metadata": {},
   "outputs": [],
   "source": "import os\nimport warnings\nimport logging\nimport json\nfrom typing import Dict, Any, List\n\n# Suppress warnings\nwarnings.filterwarnings(\"ignore\")\nlogging.getLogger().setLevel(logging.ERROR)\n\n# Environment setup\nos.environ[\"GOOGLE_GENAI_USE_VERTEXAI\"] = \"True\"\nos.environ[\"GOOGLE_CLOUD_PROJECT\"] = \"traversaal-research\"\nos.environ[\"GOOGLE_CLOUD_LOCATION\"] = \"us-central1\"\n\nfrom google.adk.agents import Agent, SequentialAgent, ParallelAgent\nfrom google.adk.sessions import InMemorySessionService\nfrom google.adk.runners import Runner\nfrom google.genai import types\n\n# Load data from previous exercises\ndef load_order_data(file_path: str = '../exercise_1_data_collection/collected_order_data.json') -> Dict[str, Any]:\n    \"\"\"Load order data from Exercise 1\"\"\"\n    try:\n        with open(file_path, 'r') as f:\n            return json.load(f)\n    except FileNotFoundError:\n        print(f\"Warning: {file_path} not found. Using sample data.\")\n        # Fallback sample data\n        return {\n            \"order\": {\n                \"DATA_ID\": \"2204\",\n                \"CUSTOMER_ORDER_NUMBER\": \"CG92094171\",\n                \"SCHEDULED_DELIVERY_DATE\": \"2025-06-21\",\n                \"VEHICLE_TYPE\": \"FLAT\",\n                \"QUANTITY\": 109,\n                \"VOLUME_CUBEFT\": 34.9,\n                \"WEIGHT\": 1598,\n                \"PALLET\": 3,\n                \"WINDOW_START\": \"06:00:00\",\n                \"WINDOW_END\": \"20:00:00\"\n            },\n            \"customer\": {\n                \"CUSTOMER_NAME\": \"CUST_01518\",\n                \"PRO_XTRA_MEMBER\": True,\n                \"COMMERCIAL_ADDRESS_FLAG\": False,\n                \"DESTINATION_ADDRESS\": \"668 FOREST AVE ELGIN, IL 60120\",\n                \"CUSTOMER_NOTES\": \"call b/4 delivery delivery from the back of the building\"\n            },\n            \"products\": [\n                \"2 in. x 12 in. x 8 ft. 2 Prime Ground Contact Pressure-Treated Lumber\",\n                \"2 in. x 4 in. x 12 ft. 2 Prime Ground Contact Pressure-Treated Southern Yellow Pine Lumber\"\n            ],\n            \"environmental\": {\n                \"WTHR_CATEGORY\": \"Clear\",\n                \"PRECIPITATION\": 0.09,\n                \"STRT_VW_IMG_DSCRPTN\": \"* The driveway is partially obscured by trees\"\n            },\n            \"risk_info\": {\n                \"DLVRY_RISK_DECILE\": 6,\n                \"DLVRY_RISK_BUCKET\": \"MEDIUM\",\n                \"DLVRY_RISK_PERCENTILE\": 65,\n                \"DLVRY_RISK_TOP_FEATURE\": \"WEIGHT,CUSTOMER_NOTES\"\n            }\n        }\n\ndef load_risk_assessment(file_path: str = '../exercise_2_risk_assessment/risk_assessment_output.json') -> Dict[str, Any]:\n    \"\"\"Load risk assessment from Exercise 2\"\"\"\n    try:\n        with open(file_path, 'r') as f:\n            return json.load(f)\n    except FileNotFoundError:\n        print(f\"Warning: {file_path} not found. Using sample data.\")\n        # Fallback sample data\n        return {\n            \"risk_assessment\": {\n                \"overall_risk_score\": 6,\n                \"risk_level\": \"MEDIUM\",\n                \"risk_percentile\": 65,\n                \"risk_scores\": {\n                    \"overall\": 6,\n                    \"weather\": 2,\n                    \"customer\": 5,\n                    \"route\": 5\n                },\n                \"risk_factors\": [\n                    \"Heavy load on flatbed\",\n                    \"Special delivery instructions\",\n                    \"Residential address\"\n                ],\n                \"top_risks\": \"WEIGHT,CUSTOMER_NOTES\",\n                \"recommendations\": [\n                    {\n                        \"action\": \"Schedule early morning delivery\",\n                        \"priority\": \"HIGH\",\n                        \"reason\": \"Avoid residential traffic\"\n                    }\n                ]\n            }\n        }\n\nprint(\"✅ Environment configured\")"
  },
  {
   "cell_type": "markdown",
   "metadata": {},
   "source": [
    "## Understanding Product Intelligence\n",
    "\n",
    "Product intelligence involves analyzing:\n",
    "\n",
    "1. **Product Characteristics**\n",
    "   - Weather sensitivity (e.g., drywall can't get wet)\n",
    "   - Handling requirements (heavy lifting equipment)\n",
    "   - Product categories for organization\n",
    "\n",
    "2. **Vehicle-Destination Matching**\n",
    "   - Is a 36' flatbed appropriate for a narrow residential street?\n",
    "   - Does the vehicle capacity match the order weight/volume?\n",
    "   - Are there access limitations?\n",
    "\n",
    "3. **Priority Scoring**\n",
    "   - Combine order value, risk level, customer type\n",
    "   - Factor in special circumstances\n",
    "   - Create a 0-100 score for GOA prioritization\n",
    "\n",
    "Let's build the tools for this analysis!"
   ]
  },
  {
   "cell_type": "markdown",
   "metadata": {},
   "source": [
    "## Product Analysis Tools\n",
    "\n",
    "First, we'll create tools that understand product characteristics and delivery requirements:"
   ]
  },
  {
   "cell_type": "code",
   "execution_count": null,
   "metadata": {},
   "outputs": [],
   "source": [
    "# Weather-sensitive products database (in production, this would be in BigQuery)\n",
    "WEATHER_SENSITIVE_PRODUCTS = {\n",
    "    \"drywall\": {\"rain_sensitive\": True, \"temp_sensitive\": False, \"humidity_sensitive\": True},\n",
    "    \"cement\": {\"rain_sensitive\": True, \"temp_sensitive\": True, \"humidity_sensitive\": False},\n",
    "    \"paint\": {\"rain_sensitive\": False, \"temp_sensitive\": True, \"humidity_sensitive\": True},\n",
    "    \"lumber\": {\"rain_sensitive\": True, \"temp_sensitive\": False, \"humidity_sensitive\": True},\n",
    "    \"insulation\": {\"rain_sensitive\": True, \"temp_sensitive\": False, \"humidity_sensitive\": True},\n",
    "    \"shingles\": {\"rain_sensitive\": False, \"temp_sensitive\": True, \"humidity_sensitive\": False},\n",
    "}\n",
    "\n",
    "# Vehicle capacity limits\n",
    "VEHICLE_LIMITS = {\n",
    "    \"FLAT\": {\"max_weight\": 5000, \"max_volume\": 500, \"max_pallets\": 8, \"suitable_for\": [\"residential\", \"commercial\"]},\n",
    "    \"BOX\": {\"max_weight\": 3000, \"max_volume\": 300, \"max_pallets\": 6, \"suitable_for\": [\"residential\", \"commercial\"]},\n",
    "    \"SMALL\": {\"max_weight\": 1500, \"max_volume\": 150, \"max_pallets\": 2, \"suitable_for\": [\"residential\"]},\n",
    "}\n",
    "\n",
    "def analyze_product_characteristics(products: List[str]) -> Dict[str, Any]:\n",
    "    \"\"\"Analyze product list for delivery characteristics\"\"\"\n",
    "    analysis = {\n",
    "        \"total_products\": len(products),\n",
    "        \"weather_sensitive\": False,\n",
    "        \"weather_concerns\": [],\n",
    "        \"handling_requirements\": [],\n",
    "        \"product_categories\": [],\n",
    "        \"bulk_items\": False\n",
    "    }\n",
    "    \n",
    "    for product in products:\n",
    "        product_lower = product.lower()\n",
    "        \n",
    "        # Check weather sensitivity\n",
    "        for sensitive_item, conditions in WEATHER_SENSITIVE_PRODUCTS.items():\n",
    "            if sensitive_item in product_lower:\n",
    "                analysis[\"weather_sensitive\"] = True\n",
    "                if conditions[\"rain_sensitive\"]:\n",
    "                    analysis[\"weather_concerns\"].append(f\"{sensitive_item} - protect from rain\")\n",
    "                if conditions[\"temp_sensitive\"]:\n",
    "                    analysis[\"weather_concerns\"].append(f\"{sensitive_item} - temperature sensitive\")\n",
    "                    \n",
    "        # Identify handling requirements\n",
    "        if \"heavy\" in product_lower or \"timber\" in product_lower or \"lumber\" in product_lower:\n",
    "            analysis[\"handling_requirements\"].append(\"Heavy lifting equipment\")\n",
    "            analysis[\"bulk_items\"] = True\n",
    "            \n",
    "        if \"fragile\" in product_lower or \"glass\" in product_lower:\n",
    "            analysis[\"handling_requirements\"].append(\"Fragile handling\")\n",
    "            \n",
    "        # Categorize products\n",
    "        if \"lumber\" in product_lower or \"wood\" in product_lower:\n",
    "            analysis[\"product_categories\"].append(\"Lumber\")\n",
    "        elif \"paint\" in product_lower or \"primer\" in product_lower:\n",
    "            analysis[\"product_categories\"].append(\"Paint/Coatings\")\n",
    "        elif \"concrete\" in product_lower or \"cement\" in product_lower:\n",
    "            analysis[\"product_categories\"].append(\"Masonry\")\n",
    "            \n",
    "    # Remove duplicates\n",
    "    analysis[\"weather_concerns\"] = list(set(analysis[\"weather_concerns\"]))\n",
    "    analysis[\"handling_requirements\"] = list(set(analysis[\"handling_requirements\"]))\n",
    "    analysis[\"product_categories\"] = list(set(analysis[\"product_categories\"]))\n",
    "    \n",
    "    return analysis\n",
    "\n",
    "print(\"✅ Product analysis tool created\")"
   ]
  },
  {
   "cell_type": "markdown",
   "metadata": {},
   "source": [
    "## Vehicle Compatibility Tool\n",
    "\n",
    "This tool checks if the assigned vehicle is appropriate for both the order size and the destination:"
   ]
  },
  {
   "cell_type": "code",
   "execution_count": null,
   "metadata": {},
   "outputs": [],
   "source": "def check_vehicle_compatibility(order_data: Dict[str, Any], customer_data: Dict[str, Any]) -> Dict[str, Any]:\n    \"\"\"Check if vehicle is appropriate for order and destination\"\"\"\n    \n    vehicle_type = order_data.get(\"VEHICLE_TYPE\", \"UNKNOWN\")\n    weight = order_data.get(\"WEIGHT\", 0)\n    volume = order_data.get(\"VOLUME_CUBEFT\", 0)\n    pallets = order_data.get(\"PALLET\", 0)\n    address_type = \"commercial\" if customer_data.get(\"COMMERCIAL_ADDRESS_FLAG\", False) else \"residential\"\n    \n    compatibility = {\n        \"vehicle_appropriate\": True,\n        \"issues\": [],\n        \"recommendations\": []\n    }\n    \n    if vehicle_type in VEHICLE_LIMITS:\n        limits = VEHICLE_LIMITS[vehicle_type]\n        \n        # Check weight limits\n        if weight > limits[\"max_weight\"]:\n            compatibility[\"vehicle_appropriate\"] = False\n            compatibility[\"issues\"].append(f\"Weight ({weight} lbs) exceeds {vehicle_type} capacity ({limits['max_weight']} lbs)\")\n            compatibility[\"recommendations\"].append(\"Consider larger vehicle or split delivery\")\n            \n        # Check volume limits\n        if volume > limits[\"max_volume\"]:\n            compatibility[\"vehicle_appropriate\"] = False\n            compatibility[\"issues\"].append(f\"Volume ({volume} cu ft) exceeds {vehicle_type} capacity\")\n            \n        # Check pallet limits\n        if pallets > limits[\"max_pallets\"]:\n            compatibility[\"vehicle_appropriate\"] = False\n            compatibility[\"issues\"].append(f\"Pallet count ({pallets}) exceeds {vehicle_type} capacity\")\n            \n        # Check destination suitability\n        if address_type == \"residential\" and vehicle_type == \"FLAT\":\n            # Flat trucks can be problematic for residential\n            if weight > 3000:  # Heavy flat truck delivery to residential\n                compatibility[\"issues\"].append(\"Large flatbed truck may have difficulty accessing residential area\")\n                compatibility[\"recommendations\"].append(\"Consider smaller vehicle or verify access route\")\n                \n    return compatibility\n\nprint(\"✅ Vehicle compatibility tool created\")"
  },
  {
   "cell_type": "markdown",
   "metadata": {},
   "source": [
    "## Priority Scoring Algorithm\n",
    "\n",
    "This tool calculates a priority score (0-100) based on multiple factors:"
   ]
  },
  {
   "cell_type": "code",
   "execution_count": null,
   "metadata": {},
   "outputs": [],
   "source": [
    "def calculate_priority_score(\n",
    "    order_value: float,\n",
    "    risk_level: str,\n",
    "    is_pro_customer: bool,\n",
    "    has_special_instructions: bool,\n",
    "    weather_sensitive: bool,\n",
    "    vehicle_issues: bool\n",
    ") -> Dict[str, Any]:\n",
    "    \"\"\"Calculate priority score for the delivery case\"\"\"\n",
    "    \n",
    "    # Base score components\n",
    "    value_score = min(30, order_value / 100)  # Max 30 points based on value\n",
    "    \n",
    "    risk_score_map = {\"HIGH\": 30, \"MEDIUM\": 20, \"LOW\": 10}\n",
    "    risk_score = risk_score_map.get(risk_level, 15)\n",
    "    \n",
    "    # Bonus factors\n",
    "    pro_bonus = 15 if is_pro_customer else 0\n",
    "    instruction_bonus = 10 if has_special_instructions else 0\n",
    "    weather_bonus = 10 if weather_sensitive else 0\n",
    "    vehicle_bonus = 5 if vehicle_issues else 0\n",
    "    \n",
    "    # Calculate total\n",
    "    total_score = value_score + risk_score + pro_bonus + instruction_bonus + weather_bonus + vehicle_bonus\n",
    "    \n",
    "    # Normalize to 0-100\n",
    "    priority_score = min(100, int(total_score))\n",
    "    \n",
    "    return {\n",
    "        \"priority_score\": priority_score,\n",
    "        \"score_breakdown\": {\n",
    "            \"value_component\": round(value_score),\n",
    "            \"risk_component\": risk_score,\n",
    "            \"pro_customer_bonus\": pro_bonus,\n",
    "            \"special_instructions_bonus\": instruction_bonus,\n",
    "            \"weather_sensitivity_bonus\": weather_bonus,\n",
    "            \"vehicle_mismatch_bonus\": vehicle_bonus\n",
    "        },\n",
    "        \"priority_level\": \"HIGH\" if priority_score >= 70 else \"MEDIUM\" if priority_score >= 40 else \"LOW\"\n",
    "    }\n",
    "\n",
    "print(\"✅ Priority scoring algorithm created\")\n",
    "print(\"\\nScoring breakdown:\")\n",
    "print(\"- Order value: up to 30 points\")\n",
    "print(\"- Risk level: 10-30 points\")\n",
    "print(\"- PRO customer: +15 bonus\")\n",
    "print(\"- Special instructions: +10 bonus\")\n",
    "print(\"- Weather sensitivity: +10 bonus\")\n",
    "print(\"- Vehicle issues: +5 bonus\")"
   ]
  },
  {
   "cell_type": "markdown",
   "metadata": {},
   "source": [
    "## Building the Intelligence Agents\n",
    "\n",
    "Now let's create agents that use these tools to analyze deliveries:"
   ]
  },
  {
   "cell_type": "code",
   "execution_count": null,
   "metadata": {},
   "outputs": [],
   "source": "GEMINI_MODEL = \"gemini-2.0-flash\"\n\n# Product analyzer agent\nproduct_analyzer_agent = Agent(\n    model=GEMINI_MODEL,\n    name=\"product_analyzer_agent\",\n    description=\"Analyzes product descriptions for delivery characteristics\",\n    instruction=\"\"\"\\\nYou will receive order data. Extract order_data['products'] and use analyze_product_characteristics.\n\nIMPORTANT: Return the EXACT JSON output from the tool, like this example:\n{\"total_products\": 5, \"weather_sensitive\": true, \"weather_concerns\": [\"lumber - protect from rain\"], \"handling_requirements\": [\"Heavy lifting equipment\"], \"product_categories\": [\"Lumber\"], \"bulk_items\": true}\n\nDo NOT add any text before or after the JSON.\n\"\"\",\n    tools=[analyze_product_characteristics],\n    output_key=\"product_analysis\"\n)\n\n# Vehicle compatibility agent\nvehicle_matcher_agent = Agent(\n    model=GEMINI_MODEL,\n    name=\"vehicle_matcher_agent\",\n    description=\"Checks vehicle-destination compatibility\",\n    instruction=\"\"\"\\\nYou will receive order data. Extract the order information from order_data['order'] and customer information from order_data['customer'].\nUse the check_vehicle_compatibility tool with these two arguments.\n\nIMPORTANT: Return the EXACT JSON output from the tool, like this example:\n{\"vehicle_appropriate\": true, \"issues\": [], \"recommendations\": []}\n\nDo NOT add any text before or after the JSON.\n\"\"\",\n    tools=[check_vehicle_compatibility],\n    output_key=\"vehicle_compatibility\"\n)\n\nprint(\"✅ Analysis agents created\")"
  },
  {
   "cell_type": "code",
   "execution_count": null,
   "metadata": {},
   "outputs": [],
   "source": "# Priority scoring agent\npriority_scorer_agent = Agent(\n    model=GEMINI_MODEL,\n    name=\"priority_scorer_agent\",\n    description=\"Calculates delivery priority score\",\n    instruction=\"\"\"\\\nYou have access to data from previous agents and the original data:\n- Product analysis in {product_analysis}\n- Vehicle compatibility in {vehicle_compatibility}\n- Original order_data and risk_assessment from user message\n\nExtract the following values from the data:\n- order_value: use order_data['order']['WEIGHT'] * 0.1 as a proxy (or QUANTITY * 10)\n- risk_level: from risk_assessment['risk_assessment']['risk_level']\n- is_pro_customer: from order_data['customer']['PRO_XTRA_MEMBER']\n- has_special_instructions: true if order_data['customer']['CUSTOMER_NOTES'] is not empty\n- weather_sensitive: from {product_analysis}['weather_sensitive']\n- vehicle_issues: true if {vehicle_compatibility}['vehicle_appropriate'] is false\n\nCall the calculate_priority_score tool with these parameters.\n\nThe tool will return a JSON response with this structure:\n{\n    \"priority_score\": <number>,\n    \"score_breakdown\": {...},\n    \"priority_level\": \"<HIGH/MEDIUM/LOW>\"\n}\n\nIMPORTANT: Return ONLY the JSON response from the calculate_priority_score tool.\nDo NOT return the input parameters or add any text.\n\"\"\",\n    tools=[calculate_priority_score],\n    output_key=\"priority_scoring\"\n)\n\n# Insight generator agent\ninsight_generator_agent = Agent(\n    model=GEMINI_MODEL,\n    name=\"insight_generator_agent\",\n    description=\"Generates intelligent insights from all analyses\",\n    instruction=\"\"\"\\\nBased on all the analyses provided, generate intelligent insights:\n\n{product_analysis}\n{vehicle_compatibility}\n{priority_scoring}\n\nCreate a JSON structure with:\n{\n    \"intelligent_insights\": {\n        \"product_insights\": \"<summary of product analysis findings>\",\n        \"delivery_complexity\": \"<assessment of delivery difficulty>\",\n        \"key_challenges\": [<list of main challenges>],\n        \"success_factors\": [<factors that will help delivery succeed>],\n        \"equipment_needed\": [<specific equipment requirements>]\n    }\n}\n\nFocus on actionable insights that help GOAs make better decisions.\nReturn ONLY the JSON structure.\n\"\"\",\n    tools=[],\n    output_key=\"delivery_insights\"\n)\n\nprint(\"✅ Scoring and insight agents created\")"
  },
  {
   "cell_type": "markdown",
   "metadata": {},
   "source": [
    "## Orchestrating the Intelligence Pipeline\n",
    "\n",
    "We'll run product and vehicle analysis in parallel, then score and generate insights:"
   ]
  },
  {
   "cell_type": "code",
   "execution_count": null,
   "metadata": {},
   "outputs": [],
   "source": [
    "# Parallel analysis of products and vehicles\n",
    "analysis_agent = ParallelAgent(\n",
    "    name=\"analysis_agent\",\n",
    "    sub_agents=[product_analyzer_agent, vehicle_matcher_agent],\n",
    "    description=\"Analyze products and vehicle compatibility in parallel\"\n",
    ")\n",
    "\n",
    "# Sequential pipeline\n",
    "product_intelligence_pipeline = SequentialAgent(\n",
    "    name=\"product_intelligence_pipeline\",\n",
    "    sub_agents=[analysis_agent, priority_scorer_agent, insight_generator_agent],\n",
    "    description=\"Complete product intelligence and priority scoring pipeline\"\n",
    ")\n",
    "\n",
    "print(\"✅ Intelligence pipeline assembled\")\n",
    "print(\"\\nPipeline flow:\")\n",
    "print(\"1️⃣  Parallel: Product Analysis + Vehicle Matching\")\n",
    "print(\"2️⃣  Priority Scoring\")\n",
    "print(\"3️⃣  Insight Generation\")"
   ]
  },
  {
   "cell_type": "markdown",
   "metadata": {},
   "source": "## Loading Data from Previous Exercises\n\nLet's load the data that was collected and assessed in the previous exercises:"
  },
  {
   "cell_type": "code",
   "execution_count": null,
   "metadata": {},
   "outputs": [],
   "source": "# Load data from previous exercises\nprint(\"📊 Loading data from previous exercises...\")\n\n# Load order data from Exercise 1\norder_data = load_order_data()\n\n# Load risk assessment from Exercise 2\nrisk_assessment = load_risk_assessment()\n\nprint(f\"\\n✅ Loaded data for order: {order_data['order']['CUSTOMER_ORDER_NUMBER']}\")\nprint(f\"Customer: {order_data['customer']['CUSTOMER_NAME']} (PRO: {order_data['customer']['PRO_XTRA_MEMBER']})\")\nprint(f\"Products: {len(order_data['products'])} items\")\nprint(f\"Risk Level: {risk_assessment['risk_assessment']['risk_level']}\")\nprint(f\"Overall Risk Score: {risk_assessment['risk_assessment']['overall_risk_score']}/10\")\n\n# Display product list\nprint(\"\\nProducts in this order:\")\nfor i, product in enumerate(order_data['products'], 1):\n    print(f\"  {i}. {product}\")"
  },
  {
   "cell_type": "markdown",
   "metadata": {},
   "source": [
    "## Running the Product Intelligence Pipeline"
   ]
  },
  {
   "cell_type": "code",
   "execution_count": null,
   "metadata": {},
   "outputs": [],
   "source": "async def run_product_intelligence(order_data: Dict[str, Any], risk_assessment: Dict[str, Any]):\n    \"\"\"Run product intelligence pipeline on order data\"\"\"\n    \n    # Setup\n    session_service = InMemorySessionService()\n    await session_service.create_session(\n        app_name=\"product_intelligence\",\n        user_id=\"user_1\",\n        session_id=\"prod_session_001\"\n    )\n    \n    # Prepare combined data\n    combined_data = {\n        \"order_data\": order_data,\n        \"risk_assessment\": risk_assessment\n    }\n    \n    runner = Runner(\n        agent=product_intelligence_pipeline,\n        app_name=\"product_intelligence\",\n        session_service=session_service\n    )\n    \n    print(\"\\n\" + \"=\" * 60)\n    print(\"PRODUCT INTELLIGENCE PIPELINE\")\n    print(\"=\" * 60)\n    print(f\"\\nAnalyzing order: {order_data.get('order', {}).get('CUSTOMER_ORDER_NUMBER', 'Unknown')}\")\n    print(f\"Products: {len(order_data.get('products', []))} items\")\n    print(f\"Vehicle: {order_data.get('order', {}).get('VEHICLE_TYPE', 'Unknown')}\")\n    print(\"\\nRunning analysis...\\n\")\n    \n    # Create message\n    content = types.Content(\n        role=\"user\",\n        parts=[types.Part(text=json.dumps(combined_data))]\n    )\n    \n    # Run pipeline\n    import sys\n    import io\n    old_stderr = sys.stderr\n    sys.stderr = io.StringIO()\n    \n    final_result = None\n    \n    try:\n        async for event in runner.run_async(\n            user_id=\"user_1\",\n            session_id=\"prod_session_001\",\n            new_message=content\n        ):\n            sys.stderr = old_stderr\n            \n            if hasattr(event, \"author\") and event.author:\n                if event.author in [\"product_analyzer_agent\", \"vehicle_matcher_agent\", \n                                  \"priority_scorer_agent\"]:\n                    print(f\"[{event.author}] processing...\")\n                    \n            if event.is_final_response() and event.author == \"insight_generator_agent\":\n                if event.content and event.content.parts:\n                    print(\"\\n\" + \"=\" * 60)\n                    print(\"PRODUCT INTELLIGENCE OUTPUT\")\n                    print(\"=\" * 60)\n                    \n                    # Get all outputs from session state\n                    session = await session_service.get_session(\n                        app_name=\"product_intelligence\",\n                        user_id=\"user_1\",\n                        session_id=\"prod_session_001\"\n                    )\n                    \n                    # Parse insights JSON\n                    try:\n                        insights_text = event.content.parts[0].text.strip()\n                        if insights_text.startswith(\"```json\"):\n                            insights_text = insights_text[7:]\n                        if insights_text.endswith(\"```\"):\n                            insights_text = insights_text[:-3]\n                        insights = json.loads(insights_text.strip())\n                    except:\n                        insights = {\"intelligent_insights\": {}}\n                    \n                    # Helper function to parse agent output\n                    def parse_agent_output(output):\n                        \"\"\"Parse agent output, handling text responses with embedded JSON\"\"\"\n                        if isinstance(output, dict):\n                            return output\n                        if isinstance(output, str):\n                            # Try to extract JSON from the string\n                            import re\n                            # Look for JSON pattern\n                            json_match = re.search(r'\\{.*\\}', output, re.DOTALL)\n                            if json_match:\n                                try:\n                                    return json.loads(json_match.group())\n                                except:\n                                    pass\n                        return {}\n                    \n                    # Parse outputs from session state\n                    product_analysis = parse_agent_output(session.state.get(\"product_analysis\", {}))\n                    vehicle_compat = parse_agent_output(session.state.get(\"vehicle_compatibility\", {}))\n                    priority_scoring = parse_agent_output(session.state.get(\"priority_scoring\", {}))\n                    \n                    # Combine all outputs\n                    final_output = {\n                        \"product_analysis\": product_analysis,\n                        \"vehicle_compatibility\": vehicle_compat,\n                        \"priority_scoring\": priority_scoring,\n                        \"delivery_insights\": insights\n                    }\n                    \n                    # Save to file\n                    with open('product_intelligence_output.json', 'w') as f:\n                        json.dump(final_output, f, indent=2)\n                    \n                    print(json.dumps(final_output, indent=2))\n                    print(\"\\n✅ Product intelligence saved to product_intelligence_output.json\")\n                    \n                    final_result = final_output\n                    break\n                    \n            sys.stderr = io.StringIO()\n    finally:\n        sys.stderr = old_stderr\n    \n    return final_result\n\n# Run the analysis\nresult = await run_product_intelligence(order_data, risk_assessment)"
  },
  {
   "cell_type": "markdown",
   "metadata": {},
   "source": [
    "## Visualizing the Results\n",
    "\n",
    "Let's examine what our intelligence pipeline discovered:"
   ]
  },
  {
   "cell_type": "code",
   "execution_count": null,
   "metadata": {},
   "outputs": [],
   "source": "if result:\n    # Display product analysis\n    print(\"\\n📦 PRODUCT ANALYSIS:\")\n    product_analysis = result.get('product_analysis', {})\n    \n    if isinstance(product_analysis, dict):\n        print(f\"Weather Sensitive: {product_analysis.get('weather_sensitive', False)}\")\n        if product_analysis.get('weather_concerns'):\n            print(\"Weather Concerns:\")\n            for concern in product_analysis['weather_concerns']:\n                print(f\"  - {concern}\")\n        if product_analysis.get('handling_requirements'):\n            print(\"Handling Requirements:\")\n            for req in product_analysis['handling_requirements']:\n                print(f\"  - {req}\")\n        if product_analysis.get('product_categories'):\n            print(\"Product Categories:\")\n            for cat in product_analysis['product_categories']:\n                print(f\"  - {cat}\")\n        print(f\"Bulk Items: {product_analysis.get('bulk_items', False)}\")\n    \n    # Display vehicle compatibility\n    print(\"\\n🚚 VEHICLE COMPATIBILITY:\")\n    vehicle_compat = result.get('vehicle_compatibility', {})\n    \n    if isinstance(vehicle_compat, dict):\n        print(f\"Vehicle Appropriate: {vehicle_compat.get('vehicle_appropriate', True)}\")\n        if vehicle_compat.get('issues'):\n            print(\"Issues:\")\n            for issue in vehicle_compat['issues']:\n                print(f\"  - {issue}\")\n        if vehicle_compat.get('recommendations'):\n            print(\"Recommendations:\")\n            for rec in vehicle_compat['recommendations']:\n                print(f\"  - {rec}\")\n    \n    # Display priority score\n    print(\"\\n🎯 PRIORITY SCORE:\")\n    priority = result.get('priority_scoring', {})\n    \n    if isinstance(priority, dict):\n        print(f\"Score: {priority.get('priority_score', 0)}/100\")\n        print(f\"Level: {priority.get('priority_level', 'UNKNOWN')}\")\n        if priority.get('score_breakdown'):\n            print(\"\\nScore Breakdown:\")\n            for component, value in priority['score_breakdown'].items():\n                print(f\"  - {component.replace('_', ' ').title()}: {value} points\")\n    \n    # Display insights\n    print(\"\\n💡 INTELLIGENT INSIGHTS:\")\n    insights = result.get('delivery_insights', {}).get('intelligent_insights', {})\n    \n    if insights:\n        if insights.get('product_insights'):\n            print(f\"\\nProduct Insights: {insights['product_insights']}\")\n        if insights.get('delivery_complexity'):\n            print(f\"\\nDelivery Complexity: {insights['delivery_complexity']}\")\n        if insights.get('key_challenges'):\n            print(\"\\nKey Challenges:\")\n            for challenge in insights['key_challenges']:\n                print(f\"  - {challenge}\")\n        if insights.get('success_factors'):\n            print(\"\\nSuccess Factors:\")\n            for factor in insights['success_factors']:\n                print(f\"  - {factor}\")\n        if insights.get('equipment_needed'):\n            print(\"\\nEquipment Needed:\")\n            for equipment in insights['equipment_needed']:\n                print(f\"  - {equipment}\")\n    \n    print(\"\\n✅ Product intelligence analysis complete!\")\n    print(\"📄 Full results saved to product_intelligence_output.json\")\nelse:\n    print(\"❌ No results returned from the pipeline\")"
  },
  {
   "cell_type": "markdown",
   "metadata": {},
   "source": [
    "## Key Takeaways\n",
    "\n",
    "This exercise demonstrated how to:\n",
    "\n",
    "1. **Analyze Product Characteristics**\n",
    "   - Identify weather-sensitive items\n",
    "   - Determine special handling needs\n",
    "   - Categorize products for better organization\n",
    "\n",
    "2. **Match Vehicles to Deliveries**\n",
    "   - Check capacity constraints\n",
    "   - Consider destination accessibility\n",
    "   - Recommend alternatives when mismatched\n",
    "\n",
    "3. **Calculate Priority Scores**\n",
    "   - Combine multiple factors into a single score\n",
    "   - Provide transparent scoring breakdown\n",
    "   - Help GOAs focus on high-priority cases\n",
    "\n",
    "4. **Generate Actionable Insights**\n",
    "   - Summarize key challenges\n",
    "   - Identify success factors\n",
    "   - Specify equipment needs\n",
    "\n",
    "## What's Next?\n",
    "\n",
    "In Exercise 4, we'll:\n",
    "1. Generate policy-compliant customer communications\n",
    "2. Create carrier notifications\n",
    "3. Suggest alternative delivery solutions\n",
    "4. Assemble everything into the final case card\n",
    "\n",
    "The structured data we've created (`product_intelligence_output.json`) will feed directly into the communication generation system!"
   ]
  },
  {
   "cell_type": "markdown",
   "source": "## Try It Yourself!\n\n> **⚠️ Important**: Complete all 5 exercises before trying these modifications! The exercises build on each other's outputs. Changing code here will affect the data flow to subsequent exercises.\n\nHere are some simple exercises to help you understand product intelligence better:\n\n### Exercise 1: Add a New Product Category\nAdd \"electrical\" products to the `analyze_product_characteristics` function:\n```python\n# Add to the categorization section:\nelif \"wire\" in product_lower or \"outlet\" in product_lower or \"electrical\" in product_lower:\n    analysis[\"product_categories\"].append(\"Electrical\")\n```\n\n### Exercise 2: Adjust Priority Scoring\nModify the priority scoring to give more weight to PRO customers:\n```python\n# Change this line in calculate_priority_score:\npro_bonus = 15 if is_pro_customer else 0\n# To:\npro_bonus = 25 if is_pro_customer else 0\n```\nRun the pipeline again and see how it affects the final score.\n\n### Exercise 3: Add a New Weather-Sensitive Product\nAdd \"flooring\" to the `WEATHER_SENSITIVE_PRODUCTS` dictionary:\n```python\n\"flooring\": {\"rain_sensitive\": True, \"temp_sensitive\": False, \"humidity_sensitive\": True}\n```\nThen test with an order that contains flooring products.\n\n### Challenge: Create a Delivery Time Estimator\nCreate a new tool that estimates delivery time based on:\n- Number of products\n- Weight of the order\n- Whether special handling is required\n- Add it as a new agent in the pipeline",
   "metadata": {}
  }
 ],
 "metadata": {
  "kernelspec": {
   "display_name": "Python 3",
   "language": "python",
   "name": "python3"
  },
  "language_info": {
   "codemirror_mode": {
    "name": "ipython",
    "version": 3
   },
   "file_extension": ".py",
   "mimetype": "text/x-python",
   "name": "python",
   "nbconvert_exporter": "python",
   "pygments_lexer": "ipython3",
   "version": "3.9.0"
  }
 },
 "nbformat": 4,
 "nbformat_minor": 4
}