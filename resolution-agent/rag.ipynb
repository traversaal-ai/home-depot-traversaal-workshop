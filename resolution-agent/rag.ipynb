{
 "cells": [
  {
   "cell_type": "code",
   "execution_count": 4,
   "id": "0a35e4f9-7b35-4add-a26a-6de25f1fb8de",
   "metadata": {
    "tags": []
   },
   "outputs": [],
   "source": [
    "!pip install sentence-transformers -q"
   ]
  },
  {
   "cell_type": "code",
   "execution_count": null,
   "id": "498c0368-ed3c-47c9-bd06-6661541887d2",
   "metadata": {},
   "outputs": [],
   "source": [
    "!pip install qdrant_client -q"
   ]
  },
  {
   "cell_type": "code",
   "execution_count": 1,
   "id": "6e037080-9fb1-4f9f-af67-50932c338d07",
   "metadata": {
    "tags": []
   },
   "outputs": [
    {
     "name": "stderr",
     "output_type": "stream",
     "text": [
      "<All keys matched successfully>\n"
     ]
    }
   ],
   "source": [
    "# Import necessary modules\n",
    "from qdrant_client import QdrantClient, models\n",
    "import json\n",
    "import numpy as np\n",
    "from sentence_transformers import SentenceTransformer\n",
    "\n",
    "# Initialize client and model\n",
    "client = QdrantClient(path=\"./qdrant_db\")\n",
    "model = SentenceTransformer(\"nomic-ai/nomic-embed-text-v1.5\", trust_remote_code=True)\n",
    "text_embeddings_size = 768  # Update based on your model's output size"
   ]
  },
  {
   "cell_type": "code",
   "execution_count": 2,
   "id": "b2f066ee-9df9-4157-8427-057611cbe257",
   "metadata": {
    "tags": []
   },
   "outputs": [
    {
     "data": {
      "application/vnd.jupyter.widget-view+json": {
       "model_id": "77fd55b1dc214f30b7813e87dadc7cdd",
       "version_major": 2,
       "version_minor": 0
      },
      "text/plain": [
       "Batches:   0%|          | 0/9 [00:00<?, ?it/s]"
      ]
     },
     "metadata": {},
     "output_type": "display_data"
    },
    {
     "name": "stdout",
     "output_type": "stream",
     "text": [
      "Collection 'user_requests' created successfully.\n",
      "Uploaded 276 user request embeddings to Qdrant.\n"
     ]
    }
   ],
   "source": [
    "# Load the JSON output file from the previous code\n",
    "with open('data/transcripts_policies_output.json', 'r') as f:\n",
    "    user_requests_data = json.load(f)\n",
    "\n",
    "# Generate embeddings for all user requests\n",
    "user_request_texts = [item['user_request'] for item in user_requests_data]\n",
    "user_request_embeddings = model.encode(user_request_texts, show_progress_bar=True).astype('float32')\n",
    "\n",
    "try:\n",
    "    collection_name = \"user_requests\"\n",
    "    \n",
    "    if client.collection_exists(collection_name):\n",
    "        client.delete_collection(collection_name=collection_name)\n",
    "        print(f\"Collection '{collection_name}' deleted successfully.\")\n",
    "\n",
    "    client.create_collection(\n",
    "        collection_name=collection_name,\n",
    "        vectors_config=models.VectorParams(\n",
    "            size=text_embeddings_size,\n",
    "            distance=models.Distance.COSINE\n",
    "        ),\n",
    "    )\n",
    "    print(f\"Collection '{collection_name}' created successfully.\")\n",
    "\n",
    "except Exception as e:\n",
    "    print(f\"An error occurred while setting up the collection: {e}\")\n",
    "\n",
    "# Prepare points for upload\n",
    "points_to_upload = [\n",
    "    models.PointStruct(\n",
    "        id=i,\n",
    "        vector=user_request_embeddings[i].tolist(),\n",
    "        payload={\n",
    "            \"user_request\": item['user_request'],  # The text to embed\n",
    "            \"customer_id\": item['customer_id'],\n",
    "            \"call_date\": item['call_date'],\n",
    "            \"transcript_id\": item['transcript_id'],\n",
    "            \"summary\": item['summary'],\n",
    "            \"policy_applied\": item['policy_applied'],\n",
    "            \"policy_details\": item['policy_details'],\n",
    "            \"action_taken\": item['action_taken']\n",
    "        },\n",
    "    )\n",
    "    for i, item in enumerate(user_requests_data)\n",
    "]\n",
    "\n",
    "# Upload to Qdrant\n",
    "client.upsert(\n",
    "    collection_name=collection_name,\n",
    "    wait=True,\n",
    "    points=points_to_upload,\n",
    ")\n",
    "\n",
    "print(f\"Uploaded {len(points_to_upload)} user request embeddings to Qdrant.\")\n",
    "\n"
   ]
  },
  {
   "cell_type": "code",
   "execution_count": 3,
   "id": "12cd0313-efc3-44fc-8c4e-7940b81759fa",
   "metadata": {
    "tags": []
   },
   "outputs": [],
   "source": [
    "\n",
    "\n",
    "# Updated search function\n",
    "def search_user_requests(query, model, client, policy_filter=None, k=10):\n",
    "    \"\"\"\n",
    "    Search user requests with optional policy filter.\n",
    "    \n",
    "    Args:\n",
    "        query (str): The search query\n",
    "        model: The sentence transformer model\n",
    "        client: Qdrant client\n",
    "        policy_filter (str): Filter by policy_applied field\n",
    "        k (int): Number of results to return\n",
    "    \"\"\"\n",
    "    query_embedding = model.encode(query, show_progress_bar=False).tolist()\n",
    "    \n",
    "    query_filter = None\n",
    "    if policy_filter:\n",
    "        query_filter = models.Filter(\n",
    "            must=[\n",
    "                models.FieldCondition(\n",
    "                    key=\"policy_applied\",\n",
    "                    match=models.MatchValue(value=policy_filter)\n",
    "                )\n",
    "            ]\n",
    "        )\n",
    "\n",
    "    results = client.query_points(\n",
    "        collection_name=\"user_requests\",\n",
    "        query=query_embedding,\n",
    "        query_filter=query_filter,\n",
    "        limit=k,\n",
    "        with_payload=True,\n",
    "    ).points\n",
    "\n",
    "    return results"
   ]
  },
  {
   "cell_type": "code",
   "execution_count": 4,
   "id": "438816ec-e541-41d3-8a2c-8c1d9941ced9",
   "metadata": {
    "tags": []
   },
   "outputs": [
    {
     "name": "stdout",
     "output_type": "stream",
     "text": [
      "1. Score: 0.588\n",
      "   Request: How can I return an item to my local Home Depot store?\n",
      "   Policy: Order Cancellation\n",
      "   Action: The agent submitted a cancellation request for the incorrect item and informed the customer about the next steps and potential outcomes.\n",
      "   Summary: The customer, Laurie Ryan, called Home Depot to cancel an incorrect item from her order and replace it with the correct one. The agent explained that while the item could be canceled, it could not be replaced in the same order due to payment processing restrictions. The cancellation request was submitted, and the customer was informed about the possibility of the cancellation not being guaranteed.\n",
      "\n",
      "2. Score: 0.582\n",
      "   Request: I received part of my order and want to return items for a refund.\n",
      "   Policy: Order Cancellation and Refund\n",
      "   Action: Agent confirmed the cancellation of one item and advised the customer to contact the store for a refund.\n",
      "   Summary: Customer placed an order online and received a cancellation email but was charged. Part of the order was delivered. Customer wants to return items and get a refund.\n",
      "\n",
      "3. Score: 0.555\n",
      "   Request: How do I get a refund for an unwanted protection plan?\n",
      "   Policy: Cancellation and Refund Policy\n",
      "   Action: The agent canceled the protection plan and processed a refund of $480 to the customer's credit card.\n",
      "   Summary: The customer called to cancel a five-year protection plan mistakenly added to their order. The agent confirmed the cancellation and processed a refund.\n",
      "\n",
      "4. Score: 0.543\n",
      "   Request: Can I get a refund for an item that was delivered but not brought inside?\n",
      "   Policy: Refund Policy\n",
      "   Action: Customer advised to refuse delivery and call back for a refund.\n",
      "   Summary: The customer ordered an item from Home Depot with delivery and protection plan. They were informed that delivery and assembly are handled by two different companies. The customer is concerned about the item being left outside as they were not aware of the delivery and assembly being separate. The customer is considering canceling the order but is informed that it cannot be canceled as it is already shipped. The agent advises the customer to refuse the delivery if they do not want it and call back for a refund.\n",
      "\n",
      "5. Score: 0.538\n",
      "   Request: Can you confirm if the remaining items will be shipped or if a refund will be issued?\n",
      "   Policy: Delivery and Refund\n",
      "   Action: A refund of $131.91 was processed for the undelivered items.\n",
      "   Summary: The customer, Christopher Edge, called Home Depot to inquire about a partial delivery of an order. He ordered six lights but only received three. The agent confirmed that the remaining items were not in stock and a refund of $131.91 was issued for the missing items.\n",
      "\n"
     ]
    }
   ],
   "source": [
    "from qdrant_client import QdrantClient\n",
    "from sentence_transformers import SentenceTransformer\n",
    "\n",
    "\n",
    "def parse_search_results(results):\n",
    "    \"\"\"Parse Qdrant search results into a clean format.\"\"\"\n",
    "    parsed_results = []\n",
    "    \n",
    "    for result in results:\n",
    "        parsed_results.append({\n",
    "            'score': result.score,\n",
    "            'user_request': result.payload['user_request'],\n",
    "            'customer_id': result.payload['customer_id'],\n",
    "            'policy_applied': result.payload['policy_applied'],\n",
    "            'action_taken': result.payload['action_taken'],\n",
    "            'summary': result.payload['summary']\n",
    "        })\n",
    "    \n",
    "    return parsed_results\n",
    "\n",
    "# Usage\n",
    "results = search_user_requests(\"What is return policy of hammer\", model, client, k=5)\n",
    "parsed = parse_search_results(results)\n",
    "\n",
    "# Print results\n",
    "for i, result in enumerate(parsed, 1):\n",
    "    print(f\"{i}. Score: {result['score']:.3f}\")\n",
    "    print(f\"   Request: {result['user_request']}\")\n",
    "    print(f\"   Policy: {result['policy_applied']}\")\n",
    "    print(f\"   Action: {result['action_taken']}\")\n",
    "    print(f\"   Summary: {result['summary']}\")\n",
    "    print()"
   ]
  },
  {
   "cell_type": "code",
   "execution_count": null,
   "id": "52775155-d8cf-471b-a2e5-3778444ad2f4",
   "metadata": {},
   "outputs": [],
   "source": []
  }
 ],
 "metadata": {
  "environment": {
   "kernel": "conda-base-py",
   "name": "workbench-notebooks.m129",
   "type": "gcloud",
   "uri": "us-docker.pkg.dev/deeplearning-platform-release/gcr.io/workbench-notebooks:m129"
  },
  "kernelspec": {
   "display_name": "Python 3 (ipykernel)",
   "language": "python",
   "name": "conda-base-py"
  },
  "language_info": {
   "codemirror_mode": {
    "name": "ipython",
    "version": 3
   },
   "file_extension": ".py",
   "mimetype": "text/x-python",
   "name": "python",
   "nbconvert_exporter": "python",
   "pygments_lexer": "ipython3",
   "version": "3.10.16"
  }
 },
 "nbformat": 4,
 "nbformat_minor": 5
}
